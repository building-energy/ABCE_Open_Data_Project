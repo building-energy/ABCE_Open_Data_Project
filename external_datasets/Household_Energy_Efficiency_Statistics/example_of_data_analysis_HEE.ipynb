{
 "cells": [
  {
   "cell_type": "markdown",
   "id": "1b24cb38",
   "metadata": {},
   "source": [
    "# Examples of data analysis"
   ]
  },
  {
   "cell_type": "markdown",
   "id": "21b19d0f",
   "metadata": {},
   "source": [
    "This notebook shows how to analyse the HEE dataset from the ABCE Open Data Project. \n",
    "\n",
    "View the dataset here: 'Insert figshare link'\n",
    "\n",
    "View this notebook on GitHub here: 'Insert GitHub link'"
   ]
  },
  {
   "cell_type": "markdown",
   "id": "42944566",
   "metadata": {},
   "source": [
    "# Setup"
   ]
  },
  {
   "cell_type": "code",
   "execution_count": 1,
   "id": "a7b3591f",
   "metadata": {},
   "outputs": [],
   "source": [
    "import io\n",
    "import pandas as pd\n",
    "import json\n",
    "import requests\n",
    "import numpy as np\n",
    "from matplotlib import pyplot as plt "
   ]
  },
  {
   "cell_type": "markdown",
   "id": "bbdbce8f",
   "metadata": {},
   "source": [
    "# Get CSV file from figshare"
   ]
  },
  {
   "cell_type": "markdown",
   "id": "46a7df82",
   "metadata": {},
   "source": [
    "This downloads the HEE.CSV file directly from the Figshare data repository."
   ]
  },
  {
   "cell_type": "code",
   "execution_count": 2,
   "id": "241a9944",
   "metadata": {},
   "outputs": [
    {
     "data": {
      "text/plain": [
       "['Installation month,ECO,Cashback,Green Deal Finance Plans,Green Deal Home Improvement Fund ,Green Deal Communities,Total number of measures installed\\r',\n",
       " '01/01/2013,14430,0,0,,,14430\\r',\n",
       " '01/02/2013,18595,96,0,,,18691\\r',\n",
       " '01/03/2013,21244,136,0,,,21380\\r',\n",
       " '01/04/2013,27812,110,0,,,27922\\r',\n",
       " '01/05/2013,33044,145,0,,,33189\\r']"
      ]
     },
     "execution_count": 2,
     "metadata": {},
     "output_type": "execute_result"
    }
   ],
   "source": [
    "csv_download_url= 'https://raw.githubusercontent.com/building-energy/ABCE_Open_Data_Project/main/external_datasets/Household_Energy_Efficiency_Statistics/HEE.csv'\n",
    "response=requests.get(csv_download_url)\n",
    "csv_text=response.text\n",
    "csv_text.split('\\n')[:6]"
   ]
  },
  {
   "cell_type": "markdown",
   "id": "ad2ae446",
   "metadata": {},
   "source": [
    "# Get metadata.json file from figshare"
   ]
  },
  {
   "cell_type": "markdown",
   "id": "3bd98540",
   "metadata": {},
   "source": [
    "The CSV data is in CSV on the Web (CSVW) format and so there is an additional accompanying metadata file. The code below downloads this directly from the Figshare data repository."
   ]
  },
  {
   "cell_type": "code",
   "execution_count": 3,
   "id": "20b84c45",
   "metadata": {},
   "outputs": [
    {
     "data": {
      "text/plain": [
       "{'@context': 'http://www.w3.org/ns/csvw',\n",
       " '@type': 'Table',\n",
       " 'url': 'HEE.csv',\n",
       " 'dc:title': 'Number of Measures installed through Energy Company Obligation (ECO) and under the Green Deal Framework, by installation month',\n",
       " 'dc:description': 'The table summarises the number of measures installed by under Energy Company Obligation (ECO) and the various Green Deal Framework schemes from January 2013 to March 2022',\n",
       " 'dc:abstract': 'This worksheet contains one table. Data covers from January 2013 to March 2022. Some columns and cells refer to notes. The data contains blank cells. These indicate that there is no data but are kept to allow easy comparisons between tables. Blank cells within the table indicate where it was not possible to install measures in these months, as the scheme was not in operation.',\n",
       " 'dc:creator': 'Department for Business, Energy and Industrial Strategy',\n",
       " 'dc:source': 'https://data.gov.uk/dataset/1656fb7d-1ca3-462d-a11b-8078acc33275/household-energy-efficiency-statistics',\n",
       " 'dc:issued': '2022-06-23',\n",
       " 'dc:license': 'https://www.nationalarchives.gov.uk/doc/open-government-licence/version/3/',\n",
       " 'tableSchema': {'@type': 'Schema',\n",
       "  'columns': [{'@type': 'Column',\n",
       "    'titles': 'Installation Month',\n",
       "    'dc:description': 'Measures installed in earlier installation months can be notified at a later date under some circumstances',\n",
       "    'datatype': 'date',\n",
       "    'notes': [{'type': 'notes',\n",
       "      'target': 'HEE.csv#cell=0,1',\n",
       "      'body': '[n6] Includes some measures installed between October and December 2012'}]},\n",
       "   {'@type': 'Column',\n",
       "    'titles': 'ECO',\n",
       "    'dc:description': 'The Energy Company Obligation (ECO) is a government energy efficiency scheme in Great Britain to help reduce carbon emissions and tackle fuel poverty.',\n",
       "    'datatype': 'number',\n",
       "    'notes': [{'type': 'notes',\n",
       "      'target': 'HEE.csv#cell=1,0',\n",
       "      'body': '[n2]Measures installed under ECO1, ECO2, ECO Help-To-Heat and ECO3.'}]},\n",
       "   {'@type': 'Column',\n",
       "    'titles': 'Cashback',\n",
       "    'dc:description': 'The Green Deal Cashback Scheme rewards Green Dealcustomers. Householders in England and Wales can claim cash back from Government on energy saving improvements like insulation, front doors, windows and boilers.',\n",
       "    'datatype': 'number',\n",
       "    'notes': [{'type': 'notes',\n",
       "      'target': 'HEE.csv#cell=2,0',\n",
       "      'body': '[n3]Cashback figures do not include any measures from the Cashback Exception process.'}]},\n",
       "   {'@type': 'Column',\n",
       "    'titles': 'Green Deal Finance Plans',\n",
       "    'dc:description': 'The Green Deal helps you make energy-saving improvements to your home and to find the best way to pay for them. You may be able to get a loan through the Green Deal, but youll have to pay this back.',\n",
       "    'datatype': 'number'},\n",
       "   {'@type': 'Column',\n",
       "    'titles': 'Green Deal Home Improvement Fund',\n",
       "    'dc:description': 'The Green Deal Home Improvement Fund (GDHIF) is a financial aid intitiative which allows people to get access to available funds to help wth the cost of installing energy saving measures such as solid wall insulation, double glazing, boilers, vacity wall and floor insulation  ',\n",
       "    'datatype': 'number'},\n",
       "   {'@type': 'Column',\n",
       "    'titles': 'Green Deal Communities',\n",
       "    'dc:description': 'An initiative from the Green Deal which allows local authorities to work with local partners in delivering ambitious and innovative street/ area based proposals, aim is to deliver Green Deal plans to as many hoseholds as possible',\n",
       "    'datatype': 'number',\n",
       "    'notes': [{'type': 'notes',\n",
       "      'target': 'HEE.csv#cell=5,0',\n",
       "      'body': '[n4]Based on final returns received at the end of the programme. This excludes any measures that had not used any GD Communities funding towards the cost of the measure.'}]},\n",
       "   {'@type': 'Column',\n",
       "    'titles': 'Total number of measures installed',\n",
       "    'dc:description': 'Total combined number of measures installed',\n",
       "    'datatype': 'number',\n",
       "    'notes': [{'type': 'notes',\n",
       "      'target': 'HEE.csv#cell=6,0',\n",
       "      'body': '[n5] Some measures may have been installed through more than one delivery mechanism and there is therefore a small level of double counting (with a large double-count of GD Communities measures and ECO). This has not been estimated in the table.'}]}]}}"
      ]
     },
     "execution_count": 3,
     "metadata": {},
     "output_type": "execute_result"
    }
   ],
   "source": [
    "metadata_json_download_url='https://raw.githubusercontent.com/building-energy/ABCE_Open_Data_Project/main/external_datasets/Household_Energy_Efficiency_Statistics/HEE.csv-metadata.json'\n",
    "response=requests.get(metadata_json_download_url)\n",
    "metadata_text=response.text\n",
    "metadata_dict=json.loads(metadata_text)\n",
    "metadata_dict"
   ]
  },
  {
   "cell_type": "markdown",
   "id": "08af4160",
   "metadata": {},
   "source": [
    "# Read data from CSV text"
   ]
  },
  {
   "cell_type": "markdown",
   "id": "edc5ef7e",
   "metadata": {},
   "source": [
    "This reads the text from the downloaded CSV file into a Pandas DataFrame for further analysis."
   ]
  },
  {
   "cell_type": "code",
   "execution_count": 4,
   "id": "239cabbc",
   "metadata": {},
   "outputs": [
    {
     "data": {
      "text/html": [
       "<div>\n",
       "<style scoped>\n",
       "    .dataframe tbody tr th:only-of-type {\n",
       "        vertical-align: middle;\n",
       "    }\n",
       "\n",
       "    .dataframe tbody tr th {\n",
       "        vertical-align: top;\n",
       "    }\n",
       "\n",
       "    .dataframe thead th {\n",
       "        text-align: right;\n",
       "    }\n",
       "</style>\n",
       "<table border=\"1\" class=\"dataframe\">\n",
       "  <thead>\n",
       "    <tr style=\"text-align: right;\">\n",
       "      <th></th>\n",
       "      <th>Installation month</th>\n",
       "      <th>ECO</th>\n",
       "      <th>Cashback</th>\n",
       "      <th>Green Deal Finance Plans</th>\n",
       "      <th>Green Deal Home Improvement Fund</th>\n",
       "      <th>Green Deal Communities</th>\n",
       "      <th>Total number of measures installed</th>\n",
       "    </tr>\n",
       "  </thead>\n",
       "  <tbody>\n",
       "    <tr>\n",
       "      <th>0</th>\n",
       "      <td>01/01/2013</td>\n",
       "      <td>14430</td>\n",
       "      <td>0.0</td>\n",
       "      <td>0</td>\n",
       "      <td>NaN</td>\n",
       "      <td>NaN</td>\n",
       "      <td>14430</td>\n",
       "    </tr>\n",
       "    <tr>\n",
       "      <th>1</th>\n",
       "      <td>01/02/2013</td>\n",
       "      <td>18595</td>\n",
       "      <td>96.0</td>\n",
       "      <td>0</td>\n",
       "      <td>NaN</td>\n",
       "      <td>NaN</td>\n",
       "      <td>18691</td>\n",
       "    </tr>\n",
       "    <tr>\n",
       "      <th>2</th>\n",
       "      <td>01/03/2013</td>\n",
       "      <td>21244</td>\n",
       "      <td>136.0</td>\n",
       "      <td>0</td>\n",
       "      <td>NaN</td>\n",
       "      <td>NaN</td>\n",
       "      <td>21380</td>\n",
       "    </tr>\n",
       "    <tr>\n",
       "      <th>3</th>\n",
       "      <td>01/04/2013</td>\n",
       "      <td>27812</td>\n",
       "      <td>110.0</td>\n",
       "      <td>0</td>\n",
       "      <td>NaN</td>\n",
       "      <td>NaN</td>\n",
       "      <td>27922</td>\n",
       "    </tr>\n",
       "    <tr>\n",
       "      <th>4</th>\n",
       "      <td>01/05/2013</td>\n",
       "      <td>33044</td>\n",
       "      <td>145.0</td>\n",
       "      <td>0</td>\n",
       "      <td>NaN</td>\n",
       "      <td>NaN</td>\n",
       "      <td>33189</td>\n",
       "    </tr>\n",
       "  </tbody>\n",
       "</table>\n",
       "</div>"
      ],
      "text/plain": [
       "  Installation month    ECO  Cashback  Green Deal Finance Plans  \\\n",
       "0         01/01/2013  14430       0.0                         0   \n",
       "1         01/02/2013  18595      96.0                         0   \n",
       "2         01/03/2013  21244     136.0                         0   \n",
       "3         01/04/2013  27812     110.0                         0   \n",
       "4         01/05/2013  33044     145.0                         0   \n",
       "\n",
       "   Green Deal Home Improvement Fund  Green Deal Communities  \\\n",
       "0                               NaN                     NaN   \n",
       "1                               NaN                     NaN   \n",
       "2                               NaN                     NaN   \n",
       "3                               NaN                     NaN   \n",
       "4                               NaN                     NaN   \n",
       "\n",
       "   Total number of measures installed  \n",
       "0                               14430  \n",
       "1                               18691  \n",
       "2                               21380  \n",
       "3                               27922  \n",
       "4                               33189  "
      ]
     },
     "execution_count": 4,
     "metadata": {},
     "output_type": "execute_result"
    }
   ],
   "source": [
    "df=pd.read_csv(io.StringIO(csv_text))\n",
    "df.columns=df.columns.str.strip()\n",
    "df.head()"
   ]
  },
  {
   "cell_type": "markdown",
   "id": "5cb7e485",
   "metadata": {},
   "source": [
    "# Analysis: Total number of measures installed between between 2013-2022"
   ]
  },
  {
   "cell_type": "markdown",
   "id": "db053483",
   "metadata": {},
   "source": [
    "This is an example analysis for the HEE dataset. The total number of measures between 2013-2022 are represented in the form of a bar graph."
   ]
  },
  {
   "cell_type": "markdown",
   "id": "e8620e8d",
   "metadata": {},
   "source": [
    "### Create seperate data frames for each year. Note, there are only 3 months worth of data for year 2022. "
   ]
  },
  {
   "cell_type": "code",
   "execution_count": 5,
   "id": "ca0d45c3",
   "metadata": {},
   "outputs": [
    {
     "data": {
      "text/html": [
       "<div>\n",
       "<style scoped>\n",
       "    .dataframe tbody tr th:only-of-type {\n",
       "        vertical-align: middle;\n",
       "    }\n",
       "\n",
       "    .dataframe tbody tr th {\n",
       "        vertical-align: top;\n",
       "    }\n",
       "\n",
       "    .dataframe thead th {\n",
       "        text-align: right;\n",
       "    }\n",
       "</style>\n",
       "<table border=\"1\" class=\"dataframe\">\n",
       "  <thead>\n",
       "    <tr style=\"text-align: right;\">\n",
       "      <th></th>\n",
       "      <th>Installation month</th>\n",
       "      <th>ECO</th>\n",
       "      <th>Cashback</th>\n",
       "      <th>Green Deal Finance Plans</th>\n",
       "      <th>Green Deal Home Improvement Fund</th>\n",
       "      <th>Green Deal Communities</th>\n",
       "      <th>Total number of measures installed</th>\n",
       "    </tr>\n",
       "  </thead>\n",
       "  <tbody>\n",
       "    <tr>\n",
       "      <th>0</th>\n",
       "      <td>2013-01-01</td>\n",
       "      <td>14430</td>\n",
       "      <td>0.0</td>\n",
       "      <td>0</td>\n",
       "      <td>NaN</td>\n",
       "      <td>NaN</td>\n",
       "      <td>14430</td>\n",
       "    </tr>\n",
       "    <tr>\n",
       "      <th>1</th>\n",
       "      <td>2013-01-02</td>\n",
       "      <td>18595</td>\n",
       "      <td>96.0</td>\n",
       "      <td>0</td>\n",
       "      <td>NaN</td>\n",
       "      <td>NaN</td>\n",
       "      <td>18691</td>\n",
       "    </tr>\n",
       "    <tr>\n",
       "      <th>2</th>\n",
       "      <td>2013-01-03</td>\n",
       "      <td>21244</td>\n",
       "      <td>136.0</td>\n",
       "      <td>0</td>\n",
       "      <td>NaN</td>\n",
       "      <td>NaN</td>\n",
       "      <td>21380</td>\n",
       "    </tr>\n",
       "    <tr>\n",
       "      <th>3</th>\n",
       "      <td>2013-01-04</td>\n",
       "      <td>27812</td>\n",
       "      <td>110.0</td>\n",
       "      <td>0</td>\n",
       "      <td>NaN</td>\n",
       "      <td>NaN</td>\n",
       "      <td>27922</td>\n",
       "    </tr>\n",
       "    <tr>\n",
       "      <th>4</th>\n",
       "      <td>2013-01-05</td>\n",
       "      <td>33044</td>\n",
       "      <td>145.0</td>\n",
       "      <td>0</td>\n",
       "      <td>NaN</td>\n",
       "      <td>NaN</td>\n",
       "      <td>33189</td>\n",
       "    </tr>\n",
       "    <tr>\n",
       "      <th>5</th>\n",
       "      <td>2013-01-06</td>\n",
       "      <td>33769</td>\n",
       "      <td>3337.0</td>\n",
       "      <td>5</td>\n",
       "      <td>NaN</td>\n",
       "      <td>NaN</td>\n",
       "      <td>37111</td>\n",
       "    </tr>\n",
       "    <tr>\n",
       "      <th>6</th>\n",
       "      <td>2013-01-07</td>\n",
       "      <td>43441</td>\n",
       "      <td>1266.0</td>\n",
       "      <td>7</td>\n",
       "      <td>NaN</td>\n",
       "      <td>NaN</td>\n",
       "      <td>44714</td>\n",
       "    </tr>\n",
       "    <tr>\n",
       "      <th>7</th>\n",
       "      <td>2013-01-08</td>\n",
       "      <td>49575</td>\n",
       "      <td>1158.0</td>\n",
       "      <td>133</td>\n",
       "      <td>NaN</td>\n",
       "      <td>NaN</td>\n",
       "      <td>50866</td>\n",
       "    </tr>\n",
       "    <tr>\n",
       "      <th>8</th>\n",
       "      <td>2013-01-09</td>\n",
       "      <td>58514</td>\n",
       "      <td>1012.0</td>\n",
       "      <td>170</td>\n",
       "      <td>NaN</td>\n",
       "      <td>NaN</td>\n",
       "      <td>59696</td>\n",
       "    </tr>\n",
       "    <tr>\n",
       "      <th>9</th>\n",
       "      <td>2013-01-10</td>\n",
       "      <td>71772</td>\n",
       "      <td>844.0</td>\n",
       "      <td>526</td>\n",
       "      <td>NaN</td>\n",
       "      <td>NaN</td>\n",
       "      <td>73142</td>\n",
       "    </tr>\n",
       "    <tr>\n",
       "      <th>10</th>\n",
       "      <td>2013-01-11</td>\n",
       "      <td>81445</td>\n",
       "      <td>787.0</td>\n",
       "      <td>471</td>\n",
       "      <td>NaN</td>\n",
       "      <td>NaN</td>\n",
       "      <td>82703</td>\n",
       "    </tr>\n",
       "    <tr>\n",
       "      <th>11</th>\n",
       "      <td>2013-01-12</td>\n",
       "      <td>66129</td>\n",
       "      <td>472.0</td>\n",
       "      <td>433</td>\n",
       "      <td>NaN</td>\n",
       "      <td>NaN</td>\n",
       "      <td>67034</td>\n",
       "    </tr>\n",
       "  </tbody>\n",
       "</table>\n",
       "</div>"
      ],
      "text/plain": [
       "   Installation month    ECO  Cashback  Green Deal Finance Plans  \\\n",
       "0          2013-01-01  14430       0.0                         0   \n",
       "1          2013-01-02  18595      96.0                         0   \n",
       "2          2013-01-03  21244     136.0                         0   \n",
       "3          2013-01-04  27812     110.0                         0   \n",
       "4          2013-01-05  33044     145.0                         0   \n",
       "5          2013-01-06  33769    3337.0                         5   \n",
       "6          2013-01-07  43441    1266.0                         7   \n",
       "7          2013-01-08  49575    1158.0                       133   \n",
       "8          2013-01-09  58514    1012.0                       170   \n",
       "9          2013-01-10  71772     844.0                       526   \n",
       "10         2013-01-11  81445     787.0                       471   \n",
       "11         2013-01-12  66129     472.0                       433   \n",
       "\n",
       "    Green Deal Home Improvement Fund  Green Deal Communities  \\\n",
       "0                                NaN                     NaN   \n",
       "1                                NaN                     NaN   \n",
       "2                                NaN                     NaN   \n",
       "3                                NaN                     NaN   \n",
       "4                                NaN                     NaN   \n",
       "5                                NaN                     NaN   \n",
       "6                                NaN                     NaN   \n",
       "7                                NaN                     NaN   \n",
       "8                                NaN                     NaN   \n",
       "9                                NaN                     NaN   \n",
       "10                               NaN                     NaN   \n",
       "11                               NaN                     NaN   \n",
       "\n",
       "    Total number of measures installed  \n",
       "0                                14430  \n",
       "1                                18691  \n",
       "2                                21380  \n",
       "3                                27922  \n",
       "4                                33189  \n",
       "5                                37111  \n",
       "6                                44714  \n",
       "7                                50866  \n",
       "8                                59696  \n",
       "9                                73142  \n",
       "10                               82703  \n",
       "11                               67034  "
      ]
     },
     "execution_count": 5,
     "metadata": {},
     "output_type": "execute_result"
    }
   ],
   "source": [
    "df['Installation month'] = pd.to_datetime(df['Installation month'])\n",
    "\n",
    "df_2013 = df.loc[(df['Installation month'] >= '2013-01-01')\n",
    "                     & (df['Installation month'] <= '2013-01-12')]\n",
    "df_2014 = df.loc[(df['Installation month'] >= '2014-01-01')\n",
    "                     & (df['Installation month'] <= '2014-01-12')]\n",
    "df_2015 = df.loc[(df['Installation month'] >= '2015-01-01')\n",
    "                     & (df['Installation month'] <= '2015-01-12')]\n",
    "df_2016 = df.loc[(df['Installation month'] >= '2016-01-01')\n",
    "                     & (df['Installation month'] <= '2016-01-12')]\n",
    "df_2017 = df.loc[(df['Installation month'] >= '2017-01-01')\n",
    "                     & (df['Installation month'] <= '2017-01-12')]\n",
    "df_2018 = df.loc[(df['Installation month'] >= '2018-01-01')\n",
    "                     & (df['Installation month'] <= '2018-01-12')]\n",
    "df_2019 = df.loc[(df['Installation month'] >= '2019-01-01')\n",
    "                     & (df['Installation month'] <= '2019-01-12')]\n",
    "df_2020 = df.loc[(df['Installation month'] >= '2020-01-01')\n",
    "                     & (df['Installation month'] <= '2020-01-12')]\n",
    "df_2021 = df.loc[(df['Installation month'] >= '2021-01-01')\n",
    "                     & (df['Installation month'] <= '2021-01-12')]\n",
    "df_2022 = df.loc[(df['Installation month'] >= '2022-01-01')\n",
    "                     & (df['Installation month'] <= '2022-01-12')]\n",
    "\n",
    "#example\n",
    "df_2013"
   ]
  },
  {
   "cell_type": "markdown",
   "id": "b365af21",
   "metadata": {},
   "source": [
    "### Sum the total number of measures installed per year (2013-2022)"
   ]
  },
  {
   "cell_type": "code",
   "execution_count": 6,
   "id": "bc914012",
   "metadata": {},
   "outputs": [
    {
     "data": {
      "text/plain": [
       "530878"
      ]
     },
     "execution_count": 6,
     "metadata": {},
     "output_type": "execute_result"
    }
   ],
   "source": [
    "df_2013 = df.loc[(df['Installation month'] >= '2013-01-01')\n",
    "                     & (df['Installation month'] <= '2013-01-12')]\n",
    "total_2013 = df_2013['Total number of measures installed'].sum()\n",
    "\n",
    "df_2014 = df.loc[(df['Installation month'] >= '2014-01-01')\n",
    "                     & (df['Installation month'] <= '2014-01-12')]\n",
    "total_2014 = df_2014['Total number of measures installed'].sum()\n",
    "\n",
    "df_2015 = df.loc[(df['Installation month'] >= '2015-01-01')\n",
    "                     & (df['Installation month'] <= '2015-01-12')]\n",
    "total_2015 = df_2015['Total number of measures installed'].sum()\n",
    "\n",
    "df_2016 = df.loc[(df['Installation month'] >= '2016-01-01')\n",
    "                     & (df['Installation month'] <= '2016-01-12')]\n",
    "total_2016 = df_2016['Total number of measures installed'].sum()\n",
    "\n",
    "df_2017 = df.loc[(df['Installation month'] >= '2017-01-01')\n",
    "                     & (df['Installation month'] <= '2017-01-12')]\n",
    "total_2017 = df_2017['Total number of measures installed'].sum()\n",
    "\n",
    "df_2018 = df.loc[(df['Installation month'] >= '2018-01-01')\n",
    "                     & (df['Installation month'] <= '2018-01-12')]\n",
    "total_2018 = df_2018['Total number of measures installed'].sum()\n",
    "\n",
    "df_2019 = df.loc[(df['Installation month'] >= '2019-01-01')\n",
    "                     & (df['Installation month'] <= '2019-01-12')]\n",
    "total_2019 = df_2019['Total number of measures installed'].sum()\n",
    "\n",
    "df_2020 = df.loc[(df['Installation month'] >= '2020-01-01')\n",
    "                     & (df['Installation month'] <= '2020-01-12')]\n",
    "total_2020 = df_2020['Total number of measures installed'].sum()\n",
    "\n",
    "df_2021 = df.loc[(df['Installation month'] >= '2021-01-01')\n",
    "                     & (df['Installation month'] <= '2021-01-12')]\n",
    "total_2021 = df_2021['Total number of measures installed'].sum()\n",
    "\n",
    "df_2022 = df.loc[(df['Installation month'] >= '2022-01-01')\n",
    "                     & (df['Installation month'] <= '2022-01-12')]\n",
    "total_2022 = df_2022['Total number of measures installed'].sum()\n",
    "\n",
    "#example\n",
    "total_2013"
   ]
  },
  {
   "cell_type": "markdown",
   "id": "ee5e67c9",
   "metadata": {},
   "source": [
    "### Plot values in the form of a bar graph using Matplotlib"
   ]
  },
  {
   "cell_type": "code",
   "execution_count": 9,
   "id": "d5a335cf",
   "metadata": {},
   "outputs": [
    {
     "data": {
      "image/png": "[encoded data removed]",
      "text/plain": [
       "<Figure size 1152x576 with 1 Axes>"
      ]
     },
     "metadata": {
      "needs_background": "light"
     },
     "output_type": "display_data"
    },
    {
     "name": "stdout",
     "output_type": "stream",
     "text": [
      "           Figure X: Total number of measures installed between 2013-2022.\n"
     ]
    }
   ],
   "source": [
    "Year = [2013,2014,2015,2016,2017,2018,2019,2020,2021,2022]\n",
    "Number_of_measures_installed = [total_2013,total_2014,total_2015,total_2016,total_2017,total_2018,total_2019,total_2020,total_2021,total_2022]\n",
    "\n",
    "plt.bar(Year,Number_of_measures_installed)\n",
    "plt.xlabel('Year')\n",
    "plt.ylabel('Total measures installed')\n",
    "plt.rcParams[\"figure.figsize\"] = (16,8)\n",
    "plt.xticks(Year,[2013,2014,2015,2016,2017,2018,2019,2020,2021,2022])\n",
    "plt.savefig('bar_chart_plot.png')\n",
    "plt.show()\n",
    "print('           Figure X: Total number of measures installed between 2013-2022.')"
   ]
  },
  {
   "cell_type": "code",
   "execution_count": null,
   "id": "6a5fe4f3",
   "metadata": {},
   "outputs": [],
   "source": []
  }
 ],
 "metadata": {
  "kernelspec": {
   "display_name": "Python 3 (ipykernel)",
   "language": "python",
   "name": "python3"
  },
  "language_info": {
   "codemirror_mode": {
    "name": "ipython",
    "version": 3
   },
   "file_extension": ".py",
   "mimetype": "text/x-python",
   "name": "python",
   "nbconvert_exporter": "python",
   "pygments_lexer": "ipython3",
   "version": "3.9.7"
  }
 },
 "nbformat": 4,
 "nbformat_minor": 5
}
