{
 "cells": [
  {
   "cell_type": "markdown",
   "id": "47e31941",
   "metadata": {},
   "source": [
    "# Example of data analysis "
   ]
  },
  {
   "cell_type": "markdown",
   "id": "718bd416",
   "metadata": {},
   "source": [
    "This notebook shows an example analysis of the 'HEE.csv-metadata.json' file. Here we will create a table showcasing all columns within the data set along side its description."
   ]
  },
  {
   "cell_type": "markdown",
   "id": "aa110862",
   "metadata": {},
   "source": [
    "## Setup"
   ]
  },
  {
   "cell_type": "code",
   "execution_count": 85,
   "id": "620a1ee0",
   "metadata": {},
   "outputs": [],
   "source": [
    "import requests\n",
    "import json\n",
    "import pandas as pd\n",
    "import numpy as np"
   ]
  },
  {
   "cell_type": "markdown",
   "id": "f85b3989",
   "metadata": {},
   "source": [
    "## Get metadata.json file from GitHub repository\n"
   ]
  },
  {
   "cell_type": "code",
   "execution_count": 57,
   "id": "a15bae85",
   "metadata": {},
   "outputs": [
    {
     "data": {
      "text/plain": [
       "{'@context': 'http://www.w3.org/ns/csvw',\n",
       " '@type': 'Table',\n",
       " 'url': 'HEE.csv',\n",
       " 'dc:title': 'Number of Measures installed through Energy Company Obligation (ECO) and under the Green Deal Framework, by installation month',\n",
       " 'dc:description': 'The table summarises the number of measures installed by under Energy Company Obligation (ECO) and the various Green Deal Framework schemes from January 2013 to March 2022',\n",
       " 'dc:abstract': 'This worksheet contains one table. Data covers from January 2013 to March 2022. Some columns and cells refer to notes. The data contains blank cells. These indicate that there is no data but are kept to allow easy comparisons between tables. Blank cells within the table indicate where it was not possible to install measures in these months, as the scheme was not in operation.',\n",
       " 'dc:creator': 'Department for Business, Energy and Industrial Strategy',\n",
       " 'dc:source': 'https://data.gov.uk/dataset/1656fb7d-1ca3-462d-a11b-8078acc33275/household-energy-efficiency-statistics',\n",
       " 'dc:issued': '2022-06-23',\n",
       " 'dc:license': 'https://www.nationalarchives.gov.uk/doc/open-government-licence/version/3/',\n",
       " 'tableSchema': {'@type': 'Schema',\n",
       "  'columns': [{'@type': 'Column',\n",
       "    'titles': 'Installation Month',\n",
       "    'dc:description': 'Measures installed in earlier installation months can be notified at a later date under some circumstances',\n",
       "    'datatype': 'date',\n",
       "    'notes': [{'type': 'notes',\n",
       "      'target': 'HEE.csv#cell=0,1',\n",
       "      'body': '[n6] Includes some measures installed between October and December 2012'}]},\n",
       "   {'@type': 'Column',\n",
       "    'titles': 'ECO',\n",
       "    'dc:description': 'The Energy Company Obligation (ECO) is a government energy efficiency scheme in Great Britain to help reduce carbon emissions and tackle fuel poverty.',\n",
       "    'datatype': 'number',\n",
       "    'notes': [{'type': 'notes',\n",
       "      'target': 'HEE.csv#cell=1,0',\n",
       "      'body': '[n2]Measures installed under ECO1, ECO2, ECO Help-To-Heat and ECO3.'}]},\n",
       "   {'@type': 'Column',\n",
       "    'titles': 'Cashback',\n",
       "    'dc:description': 'The Green Deal Cashback Scheme rewards Green Dealcustomers. Householders in England and Wales can claim cash back from Government on energy saving improvements like insulation, front doors, windows and boilers.',\n",
       "    'datatype': 'number',\n",
       "    'notes': [{'type': 'notes',\n",
       "      'target': 'HEE.csv#cell=2,0',\n",
       "      'body': '[n3]Cashback figures do not include any measures from the Cashback Exception process.'}]},\n",
       "   {'@type': 'Column',\n",
       "    'titles': 'Green Deal Finance Plans',\n",
       "    'dc:description': 'The Green Deal helps you make energy-saving improvements to your home and to find the best way to pay for them. You may be able to get a loan through the Green Deal, but youll have to pay this back.',\n",
       "    'datatype': 'number'},\n",
       "   {'@type': 'Column',\n",
       "    'titles': 'Green Deal Home Improvement Fund',\n",
       "    'dc:description': 'The Green Deal Home Improvement Fund (GDHIF) is a financial aid intitiative which allows people to get access to available funds to help wth the cost of installing energy saving measures such as solid wall insulation, double glazing, boilers, vacity wall and floor insulation  ',\n",
       "    'datatype': 'number'},\n",
       "   {'@type': 'Column',\n",
       "    'titles': 'Green Deal Communities',\n",
       "    'dc:description': 'An initiative from the Green Deal which allows local authorities to work with local partners in delivering ambitious and innovative street/ area based proposals, aim is to deliver Green Deal plans to as many hoseholds as possible',\n",
       "    'datatype': 'number',\n",
       "    'notes': [{'type': 'notes',\n",
       "      'target': 'HEE.csv#cell=5,0',\n",
       "      'body': '[n4]Based on final returns received at the end of the programme. This excludes any measures that had not used any GD Communities funding towards the cost of the measure.'}]},\n",
       "   {'@type': 'Column',\n",
       "    'titles': 'Total number of measures installed',\n",
       "    'dc:description': 'Total combined number of measures installed',\n",
       "    'datatype': 'number',\n",
       "    'notes': [{'type': 'notes',\n",
       "      'target': 'HEE.csv#cell=6,0',\n",
       "      'body': '[n5] Some measures may have been installed through more than one delivery mechanism and there is therefore a small level of double counting (with a large double-count of GD Communities measures and ECO). This has not been estimated in the table.'}]}]}}"
      ]
     },
     "execution_count": 57,
     "metadata": {},
     "output_type": "execute_result"
    }
   ],
   "source": [
    "metadata_json_download_url='https://raw.githubusercontent.com/building-energy/ABCE_Open_Data_Project/main/external_datasets/Household_Energy_Efficiency_Statistics/HEE.csv-metadata.json'\n",
    "response=requests.get(metadata_json_download_url)\n",
    "metadata_text=response.text\n",
    "metadata_dict =json.loads(metadata_text)\n",
    "metadata_dict"
   ]
  },
  {
   "cell_type": "markdown",
   "id": "21061067",
   "metadata": {},
   "source": [
    "### Extract 'titles' and 'dc:description' from metadata_dict"
   ]
  },
  {
   "cell_type": "code",
   "execution_count": 81,
   "id": "e39a2b8d",
   "metadata": {
    "scrolled": true
   },
   "outputs": [
    {
     "data": {
      "text/plain": [
       "0                    Installation Month\n",
       "1                                   ECO\n",
       "2                              Cashback\n",
       "3              Green Deal Finance Plans\n",
       "4      Green Deal Home Improvement Fund\n",
       "5                Green Deal Communities\n",
       "6    Total number of measures installed\n",
       "dtype: object"
      ]
     },
     "execution_count": 81,
     "metadata": {},
     "output_type": "execute_result"
    }
   ],
   "source": [
    "columns = pd.Series(dtype=str)\n",
    "for i,x in enumerate(metadata_dict['tableSchema']['columns']):\n",
    "    column = pd.Series(x.get('titles'))\n",
    "    columns = pd.concat([columns, column],ignore_index=True)\n",
    "titles_col = columns\n",
    "titles_col"
   ]
  },
  {
   "cell_type": "code",
   "execution_count": 82,
   "id": "fb2e14cd",
   "metadata": {},
   "outputs": [
    {
     "data": {
      "text/plain": [
       "0    Measures installed in earlier installation mon...\n",
       "1    The Energy Company Obligation (ECO) is a gover...\n",
       "2    The Green Deal Cashback Scheme rewards Green D...\n",
       "3    The Green Deal helps you make energy-saving im...\n",
       "4    The Green Deal Home Improvement Fund (GDHIF) i...\n",
       "5    An initiative from the Green Deal which allows...\n",
       "6          Total combined number of measures installed\n",
       "dtype: object"
      ]
     },
     "execution_count": 82,
     "metadata": {},
     "output_type": "execute_result"
    }
   ],
   "source": [
    "columns = pd.Series(dtype=str)\n",
    "for i,y in enumerate(metadata_dict['tableSchema']['columns']):\n",
    "    column = pd.Series(y.get('dc:description'))\n",
    "    columns = pd.concat([columns, column],ignore_index=True)\n",
    "description_col = columns\n",
    "description_col"
   ]
  },
  {
   "cell_type": "code",
   "execution_count": 130,
   "id": "4b9fe397",
   "metadata": {},
   "outputs": [
    {
     "data": {
      "text/html": [
       "<style type=\"text/css\">\n",
       "</style>\n",
       "<table id=\"T_e626f_\">\n",
       "  <thead>\n",
       "    <tr>\n",
       "      <th class=\"col_heading level0 col0\" >0</th>\n",
       "      <th class=\"col_heading level0 col1\" >1</th>\n",
       "    </tr>\n",
       "  </thead>\n",
       "  <tbody>\n",
       "    <tr>\n",
       "      <td id=\"T_e626f_row0_col0\" class=\"data row0 col0\" >Installation Month</td>\n",
       "      <td id=\"T_e626f_row0_col1\" class=\"data row0 col1\" >Measures installed in earlier installation months can be notified at a later date under some circumstances</td>\n",
       "    </tr>\n",
       "    <tr>\n",
       "      <td id=\"T_e626f_row1_col0\" class=\"data row1 col0\" >ECO</td>\n",
       "      <td id=\"T_e626f_row1_col1\" class=\"data row1 col1\" >The Energy Company Obligation (ECO) is a government energy efficiency scheme in Great Britain to help reduce carbon emissions and tackle fuel poverty.</td>\n",
       "    </tr>\n",
       "    <tr>\n",
       "      <td id=\"T_e626f_row2_col0\" class=\"data row2 col0\" >Cashback</td>\n",
       "      <td id=\"T_e626f_row2_col1\" class=\"data row2 col1\" >The Green Deal Cashback Scheme rewards Green Dealcustomers. Householders in England and Wales can claim cash back from Government on energy saving improvements like insulation, front doors, windows and boilers.</td>\n",
       "    </tr>\n",
       "    <tr>\n",
       "      <td id=\"T_e626f_row3_col0\" class=\"data row3 col0\" >Green Deal Finance Plans</td>\n",
       "      <td id=\"T_e626f_row3_col1\" class=\"data row3 col1\" >The Green Deal helps you make energy-saving improvements to your home and to find the best way to pay for them. You may be able to get a loan through the Green Deal, but youll have to pay this back.</td>\n",
       "    </tr>\n",
       "    <tr>\n",
       "      <td id=\"T_e626f_row4_col0\" class=\"data row4 col0\" >Green Deal Home Improvement Fund</td>\n",
       "      <td id=\"T_e626f_row4_col1\" class=\"data row4 col1\" >The Green Deal Home Improvement Fund (GDHIF) is a financial aid intitiative which allows people to get access to available funds to help wth the cost of installing energy saving measures such as solid wall insulation, double glazing, boilers, vacity wall and floor insulation  </td>\n",
       "    </tr>\n",
       "    <tr>\n",
       "      <td id=\"T_e626f_row5_col0\" class=\"data row5 col0\" >Green Deal Communities</td>\n",
       "      <td id=\"T_e626f_row5_col1\" class=\"data row5 col1\" >An initiative from the Green Deal which allows local authorities to work with local partners in delivering ambitious and innovative street/ area based proposals, aim is to deliver Green Deal plans to as many hoseholds as possible</td>\n",
       "    </tr>\n",
       "    <tr>\n",
       "      <td id=\"T_e626f_row6_col0\" class=\"data row6 col0\" >Total number of measures installed</td>\n",
       "      <td id=\"T_e626f_row6_col1\" class=\"data row6 col1\" >Total combined number of measures installed</td>\n",
       "    </tr>\n",
       "  </tbody>\n",
       "</table>\n"
      ],
      "text/plain": [
       "<pandas.io.formats.style.Styler at 0x1362c278a90>"
      ]
     },
     "execution_count": 130,
     "metadata": {},
     "output_type": "execute_result"
    }
   ],
   "source": [
    "df = pd.concat([titles_col,description_col],axis=1)\n",
    "df = df.style.hide_index()\n",
    "df"
   ]
  },
  {
   "cell_type": "markdown",
   "id": "b3d914c0",
   "metadata": {},
   "source": []
  }
 ],
 "metadata": {
  "kernelspec": {
   "display_name": "Python 3 (ipykernel)",
   "language": "python",
   "name": "python3"
  },
  "language_info": {
   "codemirror_mode": {
    "name": "ipython",
    "version": 3
   },
   "file_extension": ".py",
   "mimetype": "text/x-python",
   "name": "python",
   "nbconvert_exporter": "python",
   "pygments_lexer": "ipython3",
   "version": "3.9.7"
  }
 },
 "nbformat": 4,
 "nbformat_minor": 5
}
