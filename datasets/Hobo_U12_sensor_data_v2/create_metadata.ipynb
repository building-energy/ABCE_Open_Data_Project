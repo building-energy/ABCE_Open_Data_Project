{
 "cells": [
  {
   "cell_type": "markdown",
   "id": "23d75f62",
   "metadata": {},
   "source": [
    "# create_metadata"
   ]
  },
  {
   "cell_type": "markdown",
   "id": "2d1554c3",
   "metadata": {},
   "source": [
    "This notebook creates the CSVW metadata file for the 'observation.csv' CSV file."
   ]
  },
  {
   "cell_type": "markdown",
   "id": "b03c80bc",
   "metadata": {},
   "source": [
    "## Setup\n",
    "\n",
    "Imports packages.\n",
    "\n",
    "Information on the `csvw_functions` package is available here: https://github.com/stevenkfirth/csvw_functions"
   ]
  },
  {
   "cell_type": "code",
   "execution_count": 1,
   "id": "2910160f",
   "metadata": {},
   "outputs": [],
   "source": [
    "import csvw_functions\n",
    "import json\n",
    "import rdflib"
   ]
  },
  {
   "cell_type": "markdown",
   "id": "7f9eb9ed",
   "metadata": {},
   "source": [
    "## Get embedded metadata"
   ]
  },
  {
   "cell_type": "markdown",
   "id": "0343b4b6",
   "metadata": {},
   "source": [
    "Reads the CSV file and extracts the information from the column headings to form an initial CSVW metadata document."
   ]
  },
  {
   "cell_type": "code",
   "execution_count": 2,
   "id": "30aae7f9",
   "metadata": {},
   "outputs": [
    {
     "data": {
      "text/plain": [
       "{'@context': 'http://www.w3.org/ns/csvw',\n",
       " 'tableSchema': {'columns': [{'titles': {'und': ['id']}, 'name': 'id'},\n",
       "   {'titles': {'und': ['type']}, 'name': 'type'},\n",
       "   {'titles': {'und': ['resultTime']}, 'name': 'resultTime'},\n",
       "   {'titles': {'und': ['usedProcedure']}, 'name': 'usedProcedure'},\n",
       "   {'titles': {'und': ['madeBySensor']}, 'name': 'madeBySensor'},\n",
       "   {'titles': {'und': ['observedProperty']}, 'name': 'observedProperty'},\n",
       "   {'titles': {'und': ['hasFeatureOfInterest']},\n",
       "    'name': 'hasFeatureOfInterest'},\n",
       "   {'titles': {'und': ['hasSimpleResult']}, 'name': 'hasSimpleResult'},\n",
       "   {'titles': {'und': ['hasResult_value']}, 'name': 'hasResult_value'},\n",
       "   {'titles': {'und': ['hasResult_unit']}, 'name': 'hasResult_unit'}]},\n",
       " 'url': 'observation.csv'}"
      ]
     },
     "execution_count": 2,
     "metadata": {},
     "output_type": "execute_result"
    }
   ],
   "source": [
    "metadata_table_dict=\\\n",
    "    csvw_functions.get_embedded_metadata(\n",
    "        'observation.csv',\n",
    "        relative_path=True  # sets the 'url' table property to a path relative to the current working directory.\n",
    ")\n",
    "metadata_table_dict"
   ]
  },
  {
   "cell_type": "markdown",
   "id": "c6637464",
   "metadata": {},
   "source": [
    "## Add new information to the metadata document\n",
    "\n",
    "This section adds additional information to create a complete metadata document."
   ]
  },
  {
   "cell_type": "markdown",
   "id": "5b74e3ac",
   "metadata": {},
   "source": [
    "### add column descriptions, datatypes and units\n",
    "\n",
    "Adds additional information to each column."
   ]
  },
  {
   "cell_type": "code",
   "execution_count": 3,
   "id": "9020a172",
   "metadata": {},
   "outputs": [
    {
     "data": {
      "text/plain": [
       "{'@context': 'http://www.w3.org/ns/csvw',\n",
       " 'tableSchema': {'columns': [{'titles': {'und': ['id']},\n",
       "    'name': 'id',\n",
       "    'datatype': 'string',\n",
       "    'suppressOutput': True},\n",
       "   {'titles': {'und': ['type']},\n",
       "    'name': 'type',\n",
       "    'datatype': 'string',\n",
       "    'aboutUrl': 'https://github.com/building-energy/ABCE_Open_Data_Project/tree/main/datasets/Hobo_U12_sensor_data_v2#{id}',\n",
       "    'propertyUrl': 'rdf:type',\n",
       "    'valueUrl': 'sosa:Observation'},\n",
       "   {'titles': {'und': ['resultTime']},\n",
       "    'name': 'resultTime',\n",
       "    'datatype': 'datetime',\n",
       "    'aboutUrl': 'https://github.com/building-energy/ABCE_Open_Data_Project/tree/main/datasets/Hobo_U12_sensor_data_v2#{id}',\n",
       "    'propertyUrl': 'sosa:resultTime'},\n",
       "   {'titles': {'und': ['usedProcedure']},\n",
       "    'name': 'usedProcedure',\n",
       "    'datatype': 'string',\n",
       "    'aboutUrl': 'https://github.com/building-energy/ABCE_Open_Data_Project/tree/main/datasets/Hobo_U12_sensor_data_v2#{id}',\n",
       "    'propertyUrl': 'sosa:usedProdecure',\n",
       "    'valueUrl': 'https://github.com/building-energy/ABCE_Open_Data_Project/tree/main/datasets/Hobo_U12_sensor_data_v2#{usedProcedure}'},\n",
       "   {'titles': {'und': ['madeBySensor']},\n",
       "    'name': 'madeBySensor',\n",
       "    'datatype': 'string',\n",
       "    'aboutUrl': 'https://github.com/building-energy/ABCE_Open_Data_Project/tree/main/datasets/Hobo_U12_sensor_data_v2#{id}',\n",
       "    'propertyUrl': 'sosa:madeBySensor',\n",
       "    'valueUrl': 'https://github.com/building-energy/ABCE_Open_Data_Project/tree/main/datasets/Hobo_U12_sensor_data_v2#{madeBySensor}'},\n",
       "   {'titles': {'und': ['observedProperty']},\n",
       "    'name': 'observedProperty',\n",
       "    'datatype': 'string',\n",
       "    'aboutUrl': 'https://github.com/building-energy/ABCE_Open_Data_Project/tree/main/datasets/Hobo_U12_sensor_data_v2#{id}',\n",
       "    'propertyUrl': 'sosa:observedProperty',\n",
       "    'valueUrl': 'https://github.com/building-energy/ABCE_Open_Data_Project/tree/main/datasets/Hobo_U12_sensor_data_v2#{observedProperty}'},\n",
       "   {'titles': {'und': ['hasFeatureOfInterest']},\n",
       "    'name': 'hasFeatureOfInterest',\n",
       "    'datatype': 'string',\n",
       "    'aboutUrl': 'https://github.com/building-energy/ABCE_Open_Data_Project/tree/main/datasets/Hobo_U12_sensor_data_v2#{id}',\n",
       "    'propertyUrl': 'sosa:hasFeatureOfInterest',\n",
       "    'valueUrl': 'https://github.com/building-energy/ABCE_Open_Data_Project/tree/main/datasets/Hobo_U12_sensor_data_v2#{hasFeatureOfInterest}'},\n",
       "   {'titles': {'und': ['hasSimpleResult']},\n",
       "    'name': 'hasSimpleResult',\n",
       "    'datatype': 'string',\n",
       "    'aboutUrl': 'https://github.com/building-energy/ABCE_Open_Data_Project/tree/main/datasets/Hobo_U12_sensor_data_v2#{id}',\n",
       "    'propertyUrl': 'sosa:hasSimpleResult'},\n",
       "   {'titles': {'und': ['hasResult_value']},\n",
       "    'name': 'hasResult_value',\n",
       "    'datatype': 'number',\n",
       "    'aboutUrl': 'https://github.com/building-energy/ABCE_Open_Data_Project/tree/main/datasets/Hobo_U12_sensor_data_v2#{id}_Result',\n",
       "    'propertyUrl': 'http://qudt.org/schema/qudt/value'},\n",
       "   {'titles': {'und': ['hasResult_unit']},\n",
       "    'name': 'hasResult_unit',\n",
       "    'datatype': 'string',\n",
       "    'aboutUrl': 'https://github.com/building-energy/ABCE_Open_Data_Project/tree/main/datasets/Hobo_U12_sensor_data_v2#{id}_Result',\n",
       "    'propertyUrl': 'http://qudt.org/schema/qudt/unit',\n",
       "    'valueUrl': 'http://qudt.org/vocab/unit/{hasResult_unit}'},\n",
       "   {'name': 'result_virtual_column',\n",
       "    'virtual': True,\n",
       "    'aboutUrl': 'https://github.com/building-energy/ABCE_Open_Data_Project/tree/main/datasets/Hobo_U12_sensor_data_v2#{id}',\n",
       "    'propertyUrl': 'sosa:hasResult',\n",
       "    'valueUrl': 'https://github.com/building-energy/ABCE_Open_Data_Project/tree/main/datasets/Hobo_U12_sensor_data_v2#{id}_Result'},\n",
       "   {'name': 'result_type_virtual_column',\n",
       "    'virtual': True,\n",
       "    'aboutUrl': 'https://github.com/building-energy/ABCE_Open_Data_Project/tree/main/datasets/Hobo_U12_sensor_data_v2#{id}_Result',\n",
       "    'propertyUrl': 'rdf:type',\n",
       "    'valueUrl': 'sosa:Result'}]},\n",
       " 'url': 'observation.csv'}"
      ]
     },
     "execution_count": 3,
     "metadata": {},
     "output_type": "execute_result"
    }
   ],
   "source": [
    "url='https://github.com/building-energy/ABCE_Open_Data_Project/tree/main/datasets/Hobo_U12_sensor_data_v2#'\n",
    "\n",
    "data={\n",
    "    'id':{\n",
    "        'datatype':'string',\n",
    "        'suppressOutput': True\n",
    "    },\n",
    "    'type':{\n",
    "        'datatype':'string',\n",
    "        \"aboutUrl\": url+'{id}',\n",
    "        \"propertyUrl\": 'rdf:type',\n",
    "        \"valueUrl\": 'sosa:Observation'\n",
    "    },\n",
    "    'resultTime':{\n",
    "        'datatype':'datetime',\n",
    "        \"aboutUrl\": url+'{id}',\n",
    "        \"propertyUrl\": 'sosa:resultTime',\n",
    "    },\n",
    "    'usedProcedure':{\n",
    "        'datatype':'string',\n",
    "        \"aboutUrl\": url+'{id}',\n",
    "        \"propertyUrl\": 'sosa:usedProdecure',\n",
    "        \"valueUrl\": url+'{usedProcedure}'\n",
    "    },\n",
    "    'madeBySensor':{\n",
    "        'datatype':'string',\n",
    "        \"aboutUrl\": url+'{id}',\n",
    "        \"propertyUrl\": 'sosa:madeBySensor',\n",
    "        \"valueUrl\": url+'{madeBySensor}'\n",
    "    },\n",
    "    'observedProperty':{\n",
    "        'datatype':'string',\n",
    "        \"aboutUrl\": url+'{id}',\n",
    "        \"propertyUrl\": 'sosa:observedProperty',\n",
    "        \"valueUrl\": url+'{observedProperty}'\n",
    "    },\n",
    "    'hasFeatureOfInterest':{\n",
    "        'datatype':'string',\n",
    "        \"aboutUrl\": url+'{id}',\n",
    "        \"propertyUrl\": 'sosa:hasFeatureOfInterest',\n",
    "        \"valueUrl\": url+'{hasFeatureOfInterest}'\n",
    "    },\n",
    "    'hasSimpleResult':{\n",
    "        'datatype':'string',\n",
    "        \"aboutUrl\": url+'{id}',\n",
    "        \"propertyUrl\": 'sosa:hasSimpleResult',\n",
    "    },\n",
    "    'hasResult_value':{\n",
    "        'datatype':'number',\n",
    "        \"aboutUrl\": url+'{id}_Result',\n",
    "        \"propertyUrl\": 'http://qudt.org/schema/qudt/value',\n",
    "    },\n",
    "    'hasResult_unit':{\n",
    "        'datatype':'string',\n",
    "        \"aboutUrl\": url+'{id}_Result',\n",
    "        \"propertyUrl\": 'http://qudt.org/schema/qudt/unit',\n",
    "        \"valueUrl\": 'http://qudt.org/vocab/unit/{hasResult_unit}'\n",
    "    }\n",
    "}\n",
    "for col_dict in metadata_table_dict['tableSchema']['columns']:\n",
    "    for k,v in data[col_dict['name']].items():\n",
    "        col_dict[k]=v\n",
    "        \n",
    "metadata_table_dict['tableSchema']['columns'].append(\n",
    "    {\n",
    "        'name': 'result_virtual_column',\n",
    "        'virtual': True,\n",
    "        \"aboutUrl\": url+'{id}',\n",
    "        \"propertyUrl\": 'sosa:hasResult',\n",
    "        \"valueUrl\": url+'{id}_Result'\n",
    "    }\n",
    ")\n",
    "\n",
    "metadata_table_dict['tableSchema']['columns'].append(\n",
    "    {\n",
    "        'name': 'result_type_virtual_column',\n",
    "        'virtual': True,\n",
    "        \"aboutUrl\": url+'{id}_Result',\n",
    "        \"propertyUrl\": 'rdf:type',\n",
    "        \"valueUrl\": 'sosa:Result'\n",
    "    }\n",
    ")\n",
    "        \n",
    "metadata_table_dict"
   ]
  },
  {
   "cell_type": "markdown",
   "id": "13bf8cba",
   "metadata": {},
   "source": [
    "## Save the newly created metadata table object"
   ]
  },
  {
   "cell_type": "code",
   "execution_count": 4,
   "id": "eb3b150e",
   "metadata": {},
   "outputs": [],
   "source": [
    "with open('observation.csv-metadata.json','w') as f:\n",
    "    json.dump(metadata_table_dict,f,indent=4)"
   ]
  },
  {
   "cell_type": "markdown",
   "id": "6f44ab76",
   "metadata": {},
   "source": [
    "## Testing\n",
    "\n",
    "To test the newly created metadata file, we can use the `csvw_functions` package to create an annotated table group object and chaeck for errors. We can also convert the data to JSON-LD to check that this process works fine.\n"
   ]
  },
  {
   "cell_type": "code",
   "execution_count": 5,
   "id": "f965742a",
   "metadata": {},
   "outputs": [],
   "source": [
    "annotated_table_group_dict=csvw_functions.create_annotated_table_group(\n",
    "    'observation.csv-metadata.json'\n",
    ")"
   ]
  },
  {
   "cell_type": "markdown",
   "id": "e0f97ea3",
   "metadata": {},
   "source": [
    "*(No runtime errors)*"
   ]
  },
  {
   "cell_type": "code",
   "execution_count": 6,
   "id": "48c3538e",
   "metadata": {},
   "outputs": [
    {
     "data": {
      "text/plain": [
       "[]"
      ]
     },
     "execution_count": 6,
     "metadata": {},
     "output_type": "execute_result"
    }
   ],
   "source": [
    "csvw_functions.get_errors(annotated_table_group_dict)"
   ]
  },
  {
   "cell_type": "markdown",
   "id": "6f1c5415",
   "metadata": {},
   "source": [
    "*(No errors stored in the annotated table group object)*"
   ]
  },
  {
   "cell_type": "code",
   "execution_count": 7,
   "id": "daba09e7",
   "metadata": {},
   "outputs": [
    {
     "data": {
      "text/plain": [
       "[{'@id': 'https://github.com/building-energy/ABCE_Open_Data_Project/tree/main/datasets/Hobo_U12_sensor_data_v2#Observation0',\n",
       "  '@type': 'sosa:Observation',\n",
       "  'sosa:resultTime': '2013-10-02T06:00:00',\n",
       "  'sosa:usedProdecure': 'https://github.com/building-energy/ABCE_Open_Data_Project/tree/main/datasets/Hobo_U12_sensor_data_v2#Procedure1',\n",
       "  'sosa:madeBySensor': 'https://github.com/building-energy/ABCE_Open_Data_Project/tree/main/datasets/Hobo_U12_sensor_data_v2#Sensor1_Hobo_U12',\n",
       "  'sosa:observedProperty': 'https://github.com/building-energy/ABCE_Open_Data_Project/tree/main/datasets/Hobo_U12_sensor_data_v2#AirTemperature',\n",
       "  'sosa:hasFeatureOfInterest': 'https://github.com/building-energy/ABCE_Open_Data_Project/tree/main/datasets/Hobo_U12_sensor_data_v2#ABCE_atrium',\n",
       "  'sosa:hasResult': {'@id': 'https://github.com/building-energy/ABCE_Open_Data_Project/tree/main/datasets/Hobo_U12_sensor_data_v2#Observation0_Result',\n",
       "   'http://qudt.org/schema/qudt/value': 19.865,\n",
       "   'http://qudt.org/schema/qudt/unit': 'http://qudt.org/vocab/unit/DEG_C',\n",
       "   '@type': 'sosa:Result'}},\n",
       " {'@id': 'https://github.com/building-energy/ABCE_Open_Data_Project/tree/main/datasets/Hobo_U12_sensor_data_v2#Observation1',\n",
       "  '@type': 'sosa:Observation',\n",
       "  'sosa:resultTime': '2013-10-02T06:00:00',\n",
       "  'sosa:usedProdecure': 'https://github.com/building-energy/ABCE_Open_Data_Project/tree/main/datasets/Hobo_U12_sensor_data_v2#Procedure2',\n",
       "  'sosa:madeBySensor': 'https://github.com/building-energy/ABCE_Open_Data_Project/tree/main/datasets/Hobo_U12_sensor_data_v2#Sensor1_Hobo_U12',\n",
       "  'sosa:observedProperty': 'https://github.com/building-energy/ABCE_Open_Data_Project/tree/main/datasets/Hobo_U12_sensor_data_v2#AirRelativeHumidity',\n",
       "  'sosa:hasFeatureOfInterest': 'https://github.com/building-energy/ABCE_Open_Data_Project/tree/main/datasets/Hobo_U12_sensor_data_v2#ABCE_atrium',\n",
       "  'sosa:hasResult': {'@id': 'https://github.com/building-energy/ABCE_Open_Data_Project/tree/main/datasets/Hobo_U12_sensor_data_v2#Observation1_Result',\n",
       "   'http://qudt.org/schema/qudt/value': 59.728,\n",
       "   'http://qudt.org/schema/qudt/unit': 'http://qudt.org/vocab/unit/PERCENT',\n",
       "   '@type': 'sosa:Result'}}]"
      ]
     },
     "execution_count": 7,
     "metadata": {},
     "output_type": "execute_result"
    }
   ],
   "source": [
    "json_ld=csvw_functions.create_json_ld(\n",
    "    annotated_table_group_dict,\n",
    "    mode='minimal'\n",
    ")\n",
    "json_ld[0:2]"
   ]
  },
  {
   "cell_type": "markdown",
   "id": "f7c74bb7",
   "metadata": {},
   "source": [
    "*(No runtime errors. Conversion looks fine.)*"
   ]
  },
  {
   "cell_type": "code",
   "execution_count": 8,
   "id": "30a4ef0a",
   "metadata": {
    "scrolled": true
   },
   "outputs": [
    {
     "name": "stdout",
     "output_type": "stream",
     "text": [
      "<https://github.com/building-energy/ABCE_Open_Data_Project/tree/main/datasets/Hobo_U12_sensor_data_v2#Observation0> <http://www.w3.org/1999/02/22-rdf-syntax-ns#type> <http://www.w3.org/ns/sosa/Observation> .\n",
      "<https://github.com/building-energy/ABCE_Open_Data_Project/tree/main/datasets/Hobo_U12_sensor_data_v2#Observation0> <http://www.w3.org/ns/sosa/resultTime> \"2013-10-02T06:00:00\"^^<http://www.w3.org/2001/XMLSchema#dateTime> .\n",
      "<https://github.com/building-energy/ABCE_Open_Data_Project/tree/main/datasets/Hobo_U12_sensor_data_v2#Observation0> <http://www.w3.org/ns/sosa/usedProdecure> <https://github.com/building-energy/ABCE_Open_Data_Project/tree/main/datasets/Hobo_U12_sensor_data_v2#Procedure1> .\n",
      "<https://github.com/building-energy/ABCE_Open_Data_Project/tree/main/datasets/Hobo_U12_sensor_data_v2#Observation0> <http://www.w3.org/ns/sosa/madeBySensor> <https://github.com/building-energy/ABCE_Open_Data_Project/tree/main/datasets/Hobo_U12_sensor_data_v2#Sensor1_Hobo_U12> .\n",
      "<https://github\n"
     ]
    }
   ],
   "source": [
    "rdf_ntriples=csvw_functions.create_rdf(\n",
    "    annotated_table_group_dict,\n",
    "    mode='minimal'\n",
    ")\n",
    "print(rdf_ntriples[:1000])"
   ]
  },
  {
   "cell_type": "code",
   "execution_count": 9,
   "id": "42b7aa3a",
   "metadata": {},
   "outputs": [
    {
     "data": {
      "text/plain": [
       "<Graph identifier=N1e36bc5123a6472194eb0d5a4d1b4c87 (<class 'rdflib.graph.Graph'>)>"
      ]
     },
     "execution_count": 9,
     "metadata": {},
     "output_type": "execute_result"
    }
   ],
   "source": [
    "g=rdflib.Graph().parse(data=rdf_ntriples,format='ntriples')\n",
    "g"
   ]
  },
  {
   "cell_type": "code",
   "execution_count": 10,
   "id": "69e2be5f",
   "metadata": {},
   "outputs": [
    {
     "name": "stdout",
     "output_type": "stream",
     "text": [
      "@prefix qudt: <http://qudt.org/schema/qudt/> .\n",
      "@prefix qudt-unit: <http://qudt.org/vocab/unit/> .\n",
      "@prefix sensordata: <https://github.com/building-energy/ABCE_Open_Data_Project/tree/main/datasets/Hobo_U12_sensor_data_v2#> .\n",
      "@prefix sosa: <http://www.w3.org/ns/sosa/> .\n",
      "@prefix xsd: <http://www.w3.org/2001/XMLSchema#> .\n",
      "\n",
      "sensordata:Observation0 a sosa:Observation ;\n",
      "    sosa:hasFeatureOfInterest sensordata:ABCE_atrium ;\n",
      "    sosa:hasResult sensordata:Observation0_Result ;\n",
      "    sosa:madeBySensor sensordata:Sensor1_Hobo_U12 ;\n",
      "    sosa:observedProperty sensordata:AirTemperature ;\n",
      "    sosa:resultTime \"2013-10-02T06:00:00\"^^xsd:dateTime ;\n",
      "    sosa:usedProdecure sensordata:Procedure1 .\n",
      "\n",
      "sensordata:Observation1 a sosa:Observation ;\n",
      "    sosa:hasFeatureOfInterest sensordata:ABCE_atrium ;\n",
      "    sosa:hasResult sensordata:Observation1_Result ;\n",
      "    sosa:madeBySensor sensordata:Sensor1_Hobo_U12 ;\n",
      "    sosa:observedProperty sensordata:AirRelativeHumidity ;\n",
      "    sosa:resultTime \"2013-10-02T06:00:00\"^^xsd:dateT\n"
     ]
    }
   ],
   "source": [
    "g.bind('sensordata',rdflib.URIRef('https://github.com/building-energy/ABCE_Open_Data_Project/tree/main/datasets/Hobo_U12_sensor_data_v2#'))\n",
    "g.bind('sosa',rdflib.URIRef('http://www.w3.org/ns/sosa/'))\n",
    "g.bind('qudt-unit',rdflib.URIRef('http://qudt.org/vocab/unit/'))\n",
    "g.bind('qudt',rdflib.URIRef('http://qudt.org/schema/qudt/'))\n",
    "print(g.serialize(format='ttl')[:1000])"
   ]
  },
  {
   "cell_type": "code",
   "execution_count": 11,
   "id": "e50094dc",
   "metadata": {},
   "outputs": [
    {
     "name": "stdout",
     "output_type": "stream",
     "text": [
      "@prefix qudt: <http://qudt.org/schema/qudt/> .\n",
      "@prefix qudt-unit: <http://qudt.org/vocab/unit/> .\n",
      "@prefix sensordata: <https://github.com/building-energy/ABCE_Open_Data_Project/tree/main/datasets/Hobo_U12_sensor_data_v2#> .\n",
      "@prefix sosa: <http://www.w3.org/ns/sosa/> .\n",
      "@prefix xsd: <http://www.w3.org/2001/XMLSchema#> .\n",
      "\n",
      "sensordata:Observation0_Result a sosa:Result ;\n",
      "    qudt:unit qudt-unit:DEG_C ;\n",
      "    qudt:value 1.9865e+01 .\n",
      "\n",
      "sensordata:Observation1_Result a sosa:Result ;\n",
      "    qudt:unit qudt-unit:PERCENT ;\n",
      "    qudt:value 5.9728e+01 .\n",
      "\n",
      "sensordata:Observation2_Result a sosa:Result ;\n",
      "    qudt:unit qudt-unit:LUX ;\n",
      "    qudt:value 1.18e+01 .\n",
      "\n",
      "sensordata:Observation3_Result qudt:value 1.9817e+01 .\n",
      "\n",
      "\n"
     ]
    }
   ],
   "source": [
    "query=\"\"\"\n",
    "SELECT ?s ?p ?o\n",
    "WHERE {\n",
    "    ?s ?p ?o. \n",
    "    ?s a sosa:Result\n",
    "}\n",
    "LIMIT 10\n",
    "\"\"\"\n",
    "result=g.query(query)\n",
    "#for row in result:\n",
    "#    print(row)\n",
    "g1=rdflib.Graph()\n",
    "g1.bind('sensordata',rdflib.URIRef('https://github.com/building-energy/ABCE_Open_Data_Project/tree/main/datasets/Hobo_U12_sensor_data_v2#'))\n",
    "g1.bind('sosa',rdflib.URIRef('http://www.w3.org/ns/sosa/'))\n",
    "g1.bind('qudt-unit',rdflib.URIRef('http://qudt.org/vocab/unit/'))\n",
    "g1.bind('qudt',rdflib.URIRef('http://qudt.org/schema/qudt/'))\n",
    "for row in result: g1.add(row)\n",
    "print(g1.serialize(format='ttl'))"
   ]
  },
  {
   "cell_type": "code",
   "execution_count": null,
   "id": "a3fe8ad7",
   "metadata": {},
   "outputs": [],
   "source": []
  }
 ],
 "metadata": {
  "kernelspec": {
   "display_name": "Python 3 (ipykernel)",
   "language": "python",
   "name": "python3"
  },
  "language_info": {
   "codemirror_mode": {
    "name": "ipython",
    "version": 3
   },
   "file_extension": ".py",
   "mimetype": "text/x-python",
   "name": "python",
   "nbconvert_exporter": "python",
   "pygments_lexer": "ipython3",
   "version": "3.9.7"
  }
 },
 "nbformat": 4,
 "nbformat_minor": 5
}
