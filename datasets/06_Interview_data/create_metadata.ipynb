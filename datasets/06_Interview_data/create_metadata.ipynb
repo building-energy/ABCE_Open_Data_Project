{
 "cells": [
  {
   "cell_type": "markdown",
   "id": "23d75f62",
   "metadata": {},
   "source": [
    "# create_metadata"
   ]
  },
  {
   "cell_type": "markdown",
   "id": "2d1554c3",
   "metadata": {},
   "source": [
    "This notebook creates the CSVW metadata file for the interview CSV file."
   ]
  },
  {
   "cell_type": "markdown",
   "id": "b03c80bc",
   "metadata": {},
   "source": [
    "## Setup\n",
    "\n",
    "Imports packages.\n",
    "\n",
    "Information on the `csvw_functions` package is available here: https://github.com/stevenkfirth/csvw_functions"
   ]
  },
  {
   "cell_type": "code",
   "execution_count": 5,
   "id": "2910160f",
   "metadata": {},
   "outputs": [],
   "source": [
    "import csvw_functions\n",
    "import json"
   ]
  },
  {
   "cell_type": "markdown",
   "id": "7f9eb9ed",
   "metadata": {},
   "source": [
    "## Get embedded metadata"
   ]
  },
  {
   "cell_type": "markdown",
   "id": "0343b4b6",
   "metadata": {},
   "source": [
    "Reads the CSV file and extracts the information from the column headings to form an initial CSVW metadata document."
   ]
  },
  {
   "cell_type": "code",
   "execution_count": 6,
   "id": "30aae7f9",
   "metadata": {},
   "outputs": [
    {
     "data": {
      "text/plain": [
       "{'@context': 'http://www.w3.org/ns/csvw',\n",
       " 'tableSchema': {'columns': [{'titles': {'und': ['respondent_id']},\n",
       "    'name': 'respondent_id'},\n",
       "   {'titles': {'und': ['question_id']}, 'name': 'question_id'},\n",
       "   {'titles': {'und': ['question_text']}, 'name': 'question_text'},\n",
       "   {'titles': {'und': ['response_text']}, 'name': 'response_text'}]},\n",
       " 'url': 'interview_data.csv'}"
      ]
     },
     "execution_count": 6,
     "metadata": {},
     "output_type": "execute_result"
    }
   ],
   "source": [
    "metadata_table_dict=\\\n",
    "    csvw_functions.get_embedded_metadata(\n",
    "        'interview_data.csv',\n",
    "        relative_path=True  # sets the 'url' table property to a path relative to the current working directory.\n",
    ")\n",
    "metadata_table_dict"
   ]
  },
  {
   "cell_type": "markdown",
   "id": "c6637464",
   "metadata": {},
   "source": [
    "## Add new information to the metadata document\n",
    "\n",
    "This section adds additional information to create a complete metadata document."
   ]
  },
  {
   "cell_type": "markdown",
   "id": "71af1548",
   "metadata": {},
   "source": [
    "### set properties on Table object\n",
    "\n",
    "New information about the table."
   ]
  },
  {
   "cell_type": "code",
   "execution_count": 7,
   "id": "295374b2",
   "metadata": {},
   "outputs": [
    {
     "data": {
      "text/plain": [
       "{'@context': 'http://www.w3.org/ns/csvw',\n",
       " 'tableSchema': {'columns': [{'titles': {'und': ['respondent_id']},\n",
       "    'name': 'respondent_id'},\n",
       "   {'titles': {'und': ['question_id']}, 'name': 'question_id'},\n",
       "   {'titles': {'und': ['question_text']}, 'name': 'question_text'},\n",
       "   {'titles': {'und': ['response_text']}, 'name': 'response_text'}]},\n",
       " 'url': 'interview_data.csv',\n",
       " 'dc:title': 'Interview University staff',\n",
       " 'dc:description': 'Fictional interview responses for a survey carried out on University staff in June 2022',\n",
       " 'dc:location': 'Loughborough University, LE11 3TU, UK',\n",
       " 'dc:creator': 'ABCE Open Research Team'}"
      ]
     },
     "execution_count": 7,
     "metadata": {},
     "output_type": "execute_result"
    }
   ],
   "source": [
    "metadata_table_dict.update(\n",
    "    {\n",
    "        \"dc:title\": \"Interview University staff\",\n",
    "        \"dc:description\": \n",
    "            \"Fictional interview responses for a survey carried out on University staff in June 2022\",\n",
    "        \"dc:location\": \"Loughborough University, LE11 3TU, UK\",\n",
    "        \"dc:creator\": \"ABCE Open Research Team\"\n",
    "    }\n",
    ")\n",
    "metadata_table_dict"
   ]
  },
  {
   "cell_type": "markdown",
   "id": "cb4c2cd1",
   "metadata": {},
   "source": [
    "### update column names\n",
    "\n",
    "Updates the column names to better formatted strings."
   ]
  },
  {
   "cell_type": "code",
   "execution_count": 8,
   "id": "303ebdfe",
   "metadata": {},
   "outputs": [
    {
     "data": {
      "text/plain": [
       "{'@context': 'http://www.w3.org/ns/csvw',\n",
       " 'tableSchema': {'columns': [{'titles': {'und': ['respondent_id']},\n",
       "    'name': 'respondent_id'},\n",
       "   {'titles': {'und': ['question_id']}, 'name': 'question_id'},\n",
       "   {'titles': {'und': ['question_text']}, 'name': 'question_text'},\n",
       "   {'titles': {'und': ['response_text']}, 'name': 'response_text'}]},\n",
       " 'url': 'interview_data.csv',\n",
       " 'dc:title': 'Interview University staff',\n",
       " 'dc:description': 'Fictional interview responses for a survey carried out on University staff in June 2022',\n",
       " 'dc:location': 'Loughborough University, LE11 3TU, UK',\n",
       " 'dc:creator': 'ABCE Open Research Team'}"
      ]
     },
     "execution_count": 8,
     "metadata": {},
     "output_type": "execute_result"
    }
   ],
   "source": [
    "for col_dict in metadata_table_dict['tableSchema']['columns']:\n",
    "    col_dict['name']=col_dict['titles']['und'][0].split(',')[0].split('(')[0].lower().replace(' ','_')\n",
    "metadata_table_dict"
   ]
  },
  {
   "cell_type": "markdown",
   "id": "5b74e3ac",
   "metadata": {},
   "source": [
    "### add column descriptions, datatypes and units\n",
    "\n",
    "Adds additional information to each column."
   ]
  },
  {
   "cell_type": "code",
   "execution_count": 9,
   "id": "9020a172",
   "metadata": {},
   "outputs": [
    {
     "data": {
      "text/plain": [
       "{'@context': 'http://www.w3.org/ns/csvw',\n",
       " 'tableSchema': {'columns': [{'titles': {'und': ['respondent_id']},\n",
       "    'name': 'respondent_id',\n",
       "    'rdfs:label': 'respondent_id',\n",
       "    'dc:description': 'A unique integer identifier for the respondent.',\n",
       "    'datatype': 'integer'},\n",
       "   {'titles': {'und': ['question_id']},\n",
       "    'name': 'question_id',\n",
       "    'rdfs:label': 'question_id',\n",
       "    'dc:description': 'A unique integer identifier for the question.',\n",
       "    'datatype': 'integer'},\n",
       "   {'titles': {'und': ['question_text']},\n",
       "    'name': 'question_text',\n",
       "    'rdfs:label': 'question_text',\n",
       "    'dc:description': 'The text of the question.',\n",
       "    'datatype': 'string'},\n",
       "   {'titles': {'und': ['response_text']},\n",
       "    'name': 'response_text',\n",
       "    'rdfs:label': 'response_text',\n",
       "    'dc:description': 'The text of the response.',\n",
       "    'datatype': 'string'}]},\n",
       " 'url': 'interview_data.csv',\n",
       " 'dc:title': 'Interview University staff',\n",
       " 'dc:description': 'Fictional interview responses for a survey carried out on University staff in June 2022',\n",
       " 'dc:location': 'Loughborough University, LE11 3TU, UK',\n",
       " 'dc:creator': 'ABCE Open Research Team'}"
      ]
     },
     "execution_count": 9,
     "metadata": {},
     "output_type": "execute_result"
    }
   ],
   "source": [
    "data={\n",
    "    'respondent_id':{\n",
    "        'rdfs:label': 'respondent_id',\n",
    "        'dc:description': 'A unique integer identifier for the respondent.',\n",
    "        'datatype':'integer'\n",
    "    },\n",
    "    'question_id':{\n",
    "        'rdfs:label': 'question_id',\n",
    "        'dc:description': 'A unique integer identifier for the question.',\n",
    "        'datatype':'integer'\n",
    "    },\n",
    "    'question_text':{\n",
    "        'rdfs:label': 'question_text',\n",
    "        'dc:description': 'The text of the question.',\n",
    "        \"datatype\": \"string\"\n",
    "    },\n",
    "    'response_text':{\n",
    "        'rdfs:label': 'response_text',\n",
    "        'dc:description': 'The text of the response.',\n",
    "        \"datatype\": \"string\"\n",
    "    }\n",
    "}\n",
    "for col_dict in metadata_table_dict['tableSchema']['columns']:\n",
    "    for k,v in data[col_dict['name']].items():\n",
    "        col_dict[k]=v\n",
    "metadata_table_dict"
   ]
  },
  {
   "cell_type": "markdown",
   "id": "13bf8cba",
   "metadata": {},
   "source": [
    "## Save the newly created metadata table object"
   ]
  },
  {
   "cell_type": "code",
   "execution_count": 10,
   "id": "eb3b150e",
   "metadata": {},
   "outputs": [],
   "source": [
    "with open('interview_data.csv-metadata.json','w') as f:\n",
    "    json.dump(metadata_table_dict,f,indent=4)"
   ]
  },
  {
   "cell_type": "markdown",
   "id": "6f44ab76",
   "metadata": {},
   "source": [
    "## Testing\n",
    "\n",
    "To test the newly created metadata file, we can use the `csvw_functions` package to create an annotated table group object and chaeck for errors. We can also convert the data to JSON-LD to check that this process works fine.\n"
   ]
  },
  {
   "cell_type": "code",
   "execution_count": 11,
   "id": "f965742a",
   "metadata": {},
   "outputs": [],
   "source": [
    "annotated_table_group_dict=csvw_functions.create_annotated_table_group(\n",
    "    'interview_data.csv-metadata.json'\n",
    ")"
   ]
  },
  {
   "cell_type": "markdown",
   "id": "e0f97ea3",
   "metadata": {},
   "source": [
    "*(No runtime errors)*"
   ]
  },
  {
   "cell_type": "code",
   "execution_count": 12,
   "id": "48c3538e",
   "metadata": {},
   "outputs": [
    {
     "data": {
      "text/plain": [
       "[]"
      ]
     },
     "execution_count": 12,
     "metadata": {},
     "output_type": "execute_result"
    }
   ],
   "source": [
    "csvw_functions.get_errors(annotated_table_group_dict)"
   ]
  },
  {
   "cell_type": "markdown",
   "id": "6f1c5415",
   "metadata": {},
   "source": [
    "*(No errors stored in the annotated table group object)*"
   ]
  },
  {
   "cell_type": "code",
   "execution_count": 14,
   "id": "daba09e7",
   "metadata": {},
   "outputs": [
    {
     "data": {
      "text/plain": [
       "[{'respondent_id': 1,\n",
       "  'question_id': 1,\n",
       "  'question_text': 'What is your definition of sustainable construction?',\n",
       "  'response_text': 'Lorem ipsum dolor sit amet, consectetur adipiscing elit. Sed quis metus vel sapien tincidunt congue in a sem. Curabitur blandit mauris velit, nec vestibulum odio laoreet quis. Vestibulum vestibulum ornare massa, eu lacinia nulla. Nam ut enim nibh. Maecenas vel pretium dolor. Duis vitae condimentum mi. Ut mollis enim sed mauris eleifend, id semper erat commodo. In hac habitasse platea dictumst. Maecenas ac tempus risus. Mauris eu dui condimentum, laoreet eros posuere, fringilla ipsum. Suspendisse facilisis lobortis metus, at fringilla ligula venenatis eget. Duis bibendum, sem sed ullamcorper finibus, ante massa commodo massa, ac hendrerit dui enim eu velit. Etiam porta massa justo, at volutpat augue interdum auctor.'},\n",
       " {'respondent_id': 1,\n",
       "  'question_id': 2,\n",
       "  'question_text': 'What do you think the barriers are?',\n",
       "  'response_text': 'Ut in enim et erat tincidunt iaculis ut non nisl. Etiam rhoncus vestibulum imperdiet. Integer sagittis, mauris nec aliquam malesuada, ante quam viverra libero, quis semper leo nisi quis libero. Pellentesque ex velit, scelerisque a rhoncus et, consectetur fringilla tellus. Pellentesque habitant morbi tristique senectus et netus et malesuada fames ac turpis egestas. Curabitur consectetur sapien at metus accumsan interdum. Vestibulum ullamcorper lectus sodales erat mattis, vel vehicula sem placerat. Nullam a porta nulla. Class aptent taciti sociosqu ad litora torquent per conubia nostra, per inceptos himenaeos. Donec massa justo, porta congue orci sit amet, sagittis dignissim nulla. Proin fermentum nunc lectus, fringilla interdum est egestas non. Quisque sed bibendum lorem. Curabitur venenatis purus vel velit rhoncus, non interdum est placerat. Aenean vitae magna quis ipsum blandit dignissim. Cras tincidunt sapien eget est consequat, id faucibus arcu ullamcorper. Pellentesque pretium purus nec quam vehicula, a ornare nibh venenatis.'},\n",
       " {'respondent_id': 1,\n",
       "  'question_id': 3,\n",
       "  'question_text': 'What do you think the motivations are?',\n",
       "  'response_text': 'Cras ornare orci ut eros gravida feugiat. Vestibulum ante ipsum primis in faucibus orci luctus et ultrices posuere cubilia curae; In vitae ante a arcu consectetur vulputate vel nec elit. Maecenas odio ex, vulputate eget viverra ac, consectetur a quam. Curabitur eget porta quam. Etiam at ornare justo. Sed sagittis diam eu sem bibendum, id dignissim nisl faucibus. Proin vulputate, diam ut elementum porta, leo purus fringilla lectus, at rutrum odio tortor non ante. Sed porta vel lectus a semper. In hac habitasse platea dictumst. Curabitur risus libero, ultrices et velit ac, aliquet suscipit mauris. Morbi orci ante, congue quis venenatis ut, lobortis blandit velit. Etiam vel ipsum quis purus auctor vehicula ut interdum turpis.'},\n",
       " {'respondent_id': 1,\n",
       "  'question_id': 4,\n",
       "  'question_text': 'How do you see sustainable construction developing in the future?',\n",
       "  'response_text': 'Sed blandit odio orci, et ullamcorper ligula efficitur id. Interdum et malesuada fames ac ante ipsum primis in faucibus. Nulla sagittis erat enim, sollicitudin fringilla dui tincidunt ac. Nulla gravida, nibh at dictum aliquam, purus nunc hendrerit nisi, eu molestie nulla dolor eu lacus. Aenean viverra egestas interdum. Proin aliquet ante in orci efficitur molestie. Cras molestie suscipit ipsum non auctor. Nulla risus purus, rhoncus eget tortor sed, elementum efficitur nibh. Pellentesque non lorem eu nulla suscipit faucibus id in nisi. Nunc quis tincidunt nisl, eu gravida urna. Fusce eget condimentum purus. Integer euismod consequat augue ut blandit. Cras hendrerit ac ligula eu pellentesque.'}]"
      ]
     },
     "execution_count": 14,
     "metadata": {},
     "output_type": "execute_result"
    }
   ],
   "source": [
    "json_ld=csvw_functions.create_json_ld(\n",
    "    annotated_table_group_dict,\n",
    "    mode='minimal'\n",
    ")\n",
    "json_ld"
   ]
  },
  {
   "cell_type": "markdown",
   "id": "f7c74bb7",
   "metadata": {},
   "source": [
    "*(No runtime errors. Conversion looks fine.)*"
   ]
  },
  {
   "cell_type": "code",
   "execution_count": null,
   "id": "30a4ef0a",
   "metadata": {},
   "outputs": [],
   "source": []
  }
 ],
 "metadata": {
  "kernelspec": {
   "display_name": "Python 3 (ipykernel)",
   "language": "python",
   "name": "python3"
  },
  "language_info": {
   "codemirror_mode": {
    "name": "ipython",
    "version": 3
   },
   "file_extension": ".py",
   "mimetype": "text/x-python",
   "name": "python",
   "nbconvert_exporter": "python",
   "pygments_lexer": "ipython3",
   "version": "3.9.7"
  }
 },
 "nbformat": 4,
 "nbformat_minor": 5
}
