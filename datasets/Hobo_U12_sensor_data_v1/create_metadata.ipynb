{
 "cells": [
  {
   "cell_type": "markdown",
   "id": "23d75f62",
   "metadata": {},
   "source": [
    "# create_metadata"
   ]
  },
  {
   "cell_type": "markdown",
   "id": "2d1554c3",
   "metadata": {},
   "source": [
    "This notebook creates the CSVW metadata file for the sensor CSV file."
   ]
  },
  {
   "cell_type": "markdown",
   "id": "b03c80bc",
   "metadata": {},
   "source": [
    "## Setup\n",
    "\n",
    "Imports packages.\n",
    "\n",
    "Information on the `csvw_functions` package is available here: https://github.com/stevenkfirth/csvw_functions"
   ]
  },
  {
   "cell_type": "code",
   "execution_count": 1,
   "id": "2910160f",
   "metadata": {},
   "outputs": [],
   "source": [
    "import csvw_functions\n",
    "import json"
   ]
  },
  {
   "cell_type": "markdown",
   "id": "1d932954",
   "metadata": {},
   "source": [
    "## Initial data processing"
   ]
  },
  {
   "cell_type": "markdown",
   "id": "fbcf2be0",
   "metadata": {},
   "source": [
    "Initially a UnicodeDecodeError was occurring when opening the CSV file. This is because this particular CSV file is encoded in ANSI rather than the default endcoding of utf-8.\n",
    "\n",
    "You can see what the encoding of a CSV file is by opening it in Notepad, selecting 'save as' and then viewing the 'encoding box.\n",
    "\n",
    "The solution was to open the file using Python and resave it with the UTF8 encoding, which is the standard encoding used by the CSVW standards."
   ]
  },
  {
   "cell_type": "code",
   "execution_count": 2,
   "id": "d823c2d0",
   "metadata": {},
   "outputs": [],
   "source": [
    "with open('ABCE_atrium_U12.csv',encoding='ANSI') as f:\n",
    "    with open('ABCE_atrium_U12_UTF8.csv','w',encoding='UTF8') as f1:\n",
    "        f1.write(f.read())"
   ]
  },
  {
   "cell_type": "markdown",
   "id": "7f9eb9ed",
   "metadata": {},
   "source": [
    "## Get embedded metadata"
   ]
  },
  {
   "cell_type": "markdown",
   "id": "0343b4b6",
   "metadata": {},
   "source": [
    "Reads the CSV file and extracts the information from the column headings to form an initial CSVW metadata document."
   ]
  },
  {
   "cell_type": "code",
   "execution_count": 3,
   "id": "30aae7f9",
   "metadata": {},
   "outputs": [
    {
     "data": {
      "text/plain": [
       "{'@context': 'http://www.w3.org/ns/csvw',\n",
       " 'rdfs:comment': [{'@value': '\"Plot Title: 01_10_13 \"'}],\n",
       " 'tableSchema': {'columns': [{'titles': {'und': ['#']}, 'name': '%23'},\n",
       "   {'titles': {'und': ['Time, GMT+01:00']}, 'name': 'Time%2C%20GMT%2B01%3A00'},\n",
       "   {'titles': {'und': ['Temp, °C()']}, 'name': 'Temp%2C%20%C2%B0C%28%29'},\n",
       "   {'titles': {'und': ['RH, %()']}, 'name': 'RH%2C%20%25%28%29'},\n",
       "   {'titles': {'und': ['Intensity, Lux()']},\n",
       "    'name': 'Intensity%2C%20Lux%28%29'},\n",
       "   {'titles': {'und': ['Bad Battery()']}, 'name': 'Bad%20Battery%28%29'},\n",
       "   {'titles': {'und': ['Host Connected()']}, 'name': 'Host%20Connected%28%29'},\n",
       "   {'titles': {'und': ['Stopped()']}, 'name': 'Stopped%28%29'},\n",
       "   {'titles': {'und': ['End Of File()']}, 'name': 'End%20Of%20File%28%29'}]},\n",
       " 'url': 'ABCE_atrium_U12_UTF8.csv'}"
      ]
     },
     "execution_count": 3,
     "metadata": {},
     "output_type": "execute_result"
    }
   ],
   "source": [
    "metadata_table_dict=\\\n",
    "    csvw_functions.get_embedded_metadata(\n",
    "        'ABCE_atrium_U12_UTF8.csv',\n",
    "        skip_rows=1,  # skips the first row of the CSV file\n",
    "        relative_path=True  # sets the 'url' table property to a path relative to the current working directory.\n",
    ")\n",
    "metadata_table_dict"
   ]
  },
  {
   "cell_type": "markdown",
   "id": "c6637464",
   "metadata": {},
   "source": [
    "## Add new information to the metadata document\n",
    "\n",
    "This section adds additional information to create a complete metadata document."
   ]
  },
  {
   "cell_type": "markdown",
   "id": "71af1548",
   "metadata": {},
   "source": [
    "### set properties on Table object\n",
    "\n",
    "New information about the table."
   ]
  },
  {
   "cell_type": "code",
   "execution_count": 4,
   "id": "295374b2",
   "metadata": {},
   "outputs": [
    {
     "data": {
      "text/plain": [
       "{'@context': 'http://www.w3.org/ns/csvw',\n",
       " 'rdfs:comment': [{'@value': '\"Plot Title: 01_10_13 \"'}],\n",
       " 'tableSchema': {'columns': [{'titles': {'und': ['#']}, 'name': '%23'},\n",
       "   {'titles': {'und': ['Time, GMT+01:00']}, 'name': 'Time%2C%20GMT%2B01%3A00'},\n",
       "   {'titles': {'und': ['Temp, °C()']}, 'name': 'Temp%2C%20%C2%B0C%28%29'},\n",
       "   {'titles': {'und': ['RH, %()']}, 'name': 'RH%2C%20%25%28%29'},\n",
       "   {'titles': {'und': ['Intensity, Lux()']},\n",
       "    'name': 'Intensity%2C%20Lux%28%29'},\n",
       "   {'titles': {'und': ['Bad Battery()']}, 'name': 'Bad%20Battery%28%29'},\n",
       "   {'titles': {'und': ['Host Connected()']}, 'name': 'Host%20Connected%28%29'},\n",
       "   {'titles': {'und': ['Stopped()']}, 'name': 'Stopped%28%29'},\n",
       "   {'titles': {'und': ['End Of File()']}, 'name': 'End%20Of%20File%28%29'}]},\n",
       " 'url': 'ABCE_atrium_U12_UTF8.csv',\n",
       " 'dc:title': 'Indoor conditions in the atrium of the Sir Frank Gibb building',\n",
       " 'dc:description': 'Air temperature and Relative humidity data from Hobo U12 sensor placed in the atrium of the Sir Frank Gibb building',\n",
       " 'dc:location': 'Atrium, Sir Frank Gibb building, Loughborough University, LE11 3TU, UK',\n",
       " 'dc:creator': 'ABCE Open Research Team',\n",
       " 'dialect': {'skipRows': 1}}"
      ]
     },
     "execution_count": 4,
     "metadata": {},
     "output_type": "execute_result"
    }
   ],
   "source": [
    "metadata_table_dict.update(\n",
    "    {\n",
    "        \"dc:title\": \"Indoor conditions in the atrium of the Sir Frank Gibb building\",\n",
    "        \"dc:description\": \n",
    "            \"Air temperature and Relative humidity data from Hobo U12 sensor placed in the atrium of the Sir Frank Gibb building\"\"\",\n",
    "        \"dc:location\": \"Atrium, Sir Frank Gibb building, Loughborough University, LE11 3TU, UK\",\n",
    "        \"dc:creator\": \"ABCE Open Research Team\",\n",
    "        \"dialect\": {\n",
    "            \"skipRows\": 1\n",
    "        }\n",
    "    }\n",
    ")\n",
    "metadata_table_dict"
   ]
  },
  {
   "cell_type": "markdown",
   "id": "cb4c2cd1",
   "metadata": {},
   "source": [
    "### update column names\n",
    "\n",
    "Updates the column names to better formatted strings."
   ]
  },
  {
   "cell_type": "code",
   "execution_count": 5,
   "id": "303ebdfe",
   "metadata": {},
   "outputs": [
    {
     "data": {
      "text/plain": [
       "{'@context': 'http://www.w3.org/ns/csvw',\n",
       " 'rdfs:comment': [{'@value': '\"Plot Title: 01_10_13 \"'}],\n",
       " 'tableSchema': {'columns': [{'titles': {'und': ['#']}, 'name': 'index'},\n",
       "   {'titles': {'und': ['Time, GMT+01:00']}, 'name': 'time'},\n",
       "   {'titles': {'und': ['Temp, °C()']}, 'name': 'temp'},\n",
       "   {'titles': {'und': ['RH, %()']}, 'name': 'rh'},\n",
       "   {'titles': {'und': ['Intensity, Lux()']}, 'name': 'intensity'},\n",
       "   {'titles': {'und': ['Bad Battery()']}, 'name': 'bad_battery'},\n",
       "   {'titles': {'und': ['Host Connected()']}, 'name': 'host_connected'},\n",
       "   {'titles': {'und': ['Stopped()']}, 'name': 'stopped'},\n",
       "   {'titles': {'und': ['End Of File()']}, 'name': 'end_of_file'}]},\n",
       " 'url': 'ABCE_atrium_U12_UTF8.csv',\n",
       " 'dc:title': 'Indoor conditions in the atrium of the Sir Frank Gibb building',\n",
       " 'dc:description': 'Air temperature and Relative humidity data from Hobo U12 sensor placed in the atrium of the Sir Frank Gibb building',\n",
       " 'dc:location': 'Atrium, Sir Frank Gibb building, Loughborough University, LE11 3TU, UK',\n",
       " 'dc:creator': 'ABCE Open Research Team',\n",
       " 'dialect': {'skipRows': 1}}"
      ]
     },
     "execution_count": 5,
     "metadata": {},
     "output_type": "execute_result"
    }
   ],
   "source": [
    "for col_dict in metadata_table_dict['tableSchema']['columns']:\n",
    "    col_dict['name']=col_dict['titles']['und'][0].split(',')[0].split('(')[0].lower().replace(' ','_')\n",
    "metadata_table_dict['tableSchema']['columns'][0]['name']='index'\n",
    "metadata_table_dict"
   ]
  },
  {
   "cell_type": "markdown",
   "id": "5b74e3ac",
   "metadata": {},
   "source": [
    "### add column descriptions, datatypes and units\n",
    "\n",
    "Adds additional information to each column."
   ]
  },
  {
   "cell_type": "code",
   "execution_count": 6,
   "id": "9020a172",
   "metadata": {},
   "outputs": [
    {
     "data": {
      "text/plain": [
       "{'@context': 'http://www.w3.org/ns/csvw',\n",
       " 'rdfs:comment': [{'@value': '\"Plot Title: 01_10_13 \"'}],\n",
       " 'tableSchema': {'columns': [{'titles': {'und': ['#']},\n",
       "    'name': 'index',\n",
       "    'dc:description': 'Integer count of sensor observations, starting at 1.',\n",
       "    'datatype': 'integer'},\n",
       "   {'titles': {'und': ['Time, GMT+01:00']},\n",
       "    'name': 'time',\n",
       "    'dc:description': 'Date and time of a sensor observation, recorded at time zone Greenwich Mean Time +01:00.',\n",
       "    'datatype': 'string',\n",
       "    'rdfs:comment': \"The 'Time, GMT+01:00' column contains values such as '10/02/13 06:00:00 AM'. This cannot be represented by the format options available in CSVW. The format of this column approximately corresponds to 'MM/dd/yy HH:mm:ss' plus a 'AM' or 'PM' flag.\",\n",
       "    'schema:variableMeasured': 'Timestamp'},\n",
       "   {'titles': {'und': ['Temp, °C()']},\n",
       "    'name': 'temp',\n",
       "    'dc:description': 'Half hourly air temperature (C).',\n",
       "    'datatype': 'number',\n",
       "    'http://purl.org/linked-data/sdmx/2009/attribute#unitMeasure': {'@id': 'http://qudt.org/vocab/unit/DEG_C'},\n",
       "    'schema:variableMeasured': 'Air temperature',\n",
       "    'schema:duration': '30M',\n",
       "    'schema:unitText': 'C'},\n",
       "   {'titles': {'und': ['RH, %()']},\n",
       "    'name': 'rh',\n",
       "    'dc:description': 'Half hourly air relative humidity.',\n",
       "    'http://purl.org/linked-data/sdmx/2009/attribute#unitMeasure': {'@id': 'http://qudt.org/vocab/unit/PERCENT_RH'},\n",
       "    'schema:variableMeasured': 'Air relative humidity',\n",
       "    'schema:duration': '30M',\n",
       "    'schema:unitText': '%',\n",
       "    'datatype': 'number'},\n",
       "   {'titles': {'und': ['Intensity, Lux()']},\n",
       "    'name': 'intensity',\n",
       "    'dc:description': 'Half hourly light intensity (lux)',\n",
       "    'http://purl.org/linked-data/sdmx/2009/attribute#unitMeasure': {'@id': 'http://qudt.org/vocab/unit/LUX'},\n",
       "    'schema:variableMeasured': 'Light intensity',\n",
       "    'schema:duration': '30M',\n",
       "    'schema:unitText': 'Lux',\n",
       "    'datatype': 'number'},\n",
       "   {'titles': {'und': ['Bad Battery()']},\n",
       "    'name': 'bad_battery',\n",
       "    'dc:description': 'Half hourly sensor internal diagnostic test for bad battery.',\n",
       "    'schema:duration': '30M',\n",
       "    'datatype': {'base': 'string', 'format': 'Logged'}},\n",
       "   {'titles': {'und': ['Host Connected()']},\n",
       "    'name': 'host_connected',\n",
       "    'dc:description': \"Half hourly sensor internal diagnostic test for the connection of a 'host' - i.e. connection of a PC or similar.\",\n",
       "    'schema:duration': '30M',\n",
       "    'datatype': {'base': 'string', 'format': 'Logged'}},\n",
       "   {'titles': {'und': ['Stopped()']},\n",
       "    'name': 'stopped',\n",
       "    'dc:description': 'Half hourly sensor internal diagnostic test for the command to stop recording.',\n",
       "    'schema:duration': '30M',\n",
       "    'datatype': {'base': 'string', 'format': 'Logged'}},\n",
       "   {'titles': {'und': ['End Of File()']},\n",
       "    'name': 'end_of_file',\n",
       "    'dc:description': 'Half hourly value indicating the end of the downloaded data file.',\n",
       "    'schema:duration': '30M',\n",
       "    'datatype': {'base': 'string', 'format': 'Logged'}}]},\n",
       " 'url': 'ABCE_atrium_U12_UTF8.csv',\n",
       " 'dc:title': 'Indoor conditions in the atrium of the Sir Frank Gibb building',\n",
       " 'dc:description': 'Air temperature and Relative humidity data from Hobo U12 sensor placed in the atrium of the Sir Frank Gibb building',\n",
       " 'dc:location': 'Atrium, Sir Frank Gibb building, Loughborough University, LE11 3TU, UK',\n",
       " 'dc:creator': 'ABCE Open Research Team',\n",
       " 'dialect': {'skipRows': 1}}"
      ]
     },
     "execution_count": 6,
     "metadata": {},
     "output_type": "execute_result"
    }
   ],
   "source": [
    "data={\n",
    "    'index':{\n",
    "        'dc:description':'Integer count of sensor observations, starting at 1.',\n",
    "        'datatype':'integer'\n",
    "    },\n",
    "    'time':{\n",
    "        'dc:description':'Date and time of a sensor observation, recorded at time zone Greenwich Mean Time +01:00.',\n",
    "        'datatype':'string',\n",
    "        \"rdfs:comment\": \"The 'Time, GMT+01:00' column contains values such as '10/02/13 06:00:00 AM'. This cannot be represented by the format options available in CSVW. The format of this column approximately corresponds to 'MM/dd/yy HH:mm:ss' plus a 'AM' or 'PM' flag.\",\n",
    "        \"schema:variableMeasured\": \"Timestamp\",\n",
    "    },\n",
    "    'temp':{\n",
    "        \"dc:description\": \"Half hourly air temperature (C).\",\n",
    "        'datatype':'decimal',\n",
    "        \"http://purl.org/linked-data/sdmx/2009/attribute#unitMeasure\": {\n",
    "            \"@id\": \"http://qudt.org/vocab/unit/DEG_C\"\n",
    "        },\n",
    "        \"schema:variableMeasured\": \"Air temperature\",\n",
    "        \"schema:duration\": \"30M\",\n",
    "        \"schema:unitText\": \"C\",\n",
    "        \"datatype\": \"number\"\n",
    "    },\n",
    "    'rh':{\n",
    "        \"dc:description\": \"Half hourly air relative humidity.\",\n",
    "        \"http://purl.org/linked-data/sdmx/2009/attribute#unitMeasure\": {\n",
    "            \"@id\": \"http://qudt.org/vocab/unit/PERCENT_RH\"\n",
    "        },\n",
    "        \"schema:variableMeasured\": \"Air relative humidity\",\n",
    "        \"schema:duration\": \"30M\",\n",
    "        \"schema:unitText\": \"%\",\n",
    "        \"datatype\": \"number\"\n",
    "    },\n",
    "    'intensity':{\n",
    "        \"dc:description\": \"Half hourly light intensity (lux)\",\n",
    "        \"http://purl.org/linked-data/sdmx/2009/attribute#unitMeasure\": {\n",
    "            \"@id\": \"http://qudt.org/vocab/unit/LUX\"\n",
    "        },\n",
    "        \"schema:variableMeasured\": \"Light intensity\",\n",
    "        \"schema:duration\": \"30M\",\n",
    "        \"schema:unitText\": \"Lux\",\n",
    "        \"datatype\": \"number\"\n",
    "    },\n",
    "    'bad_battery':{\n",
    "        \"dc:description\": \"Half hourly sensor internal diagnostic test for bad battery.\",\n",
    "        \"schema:duration\": \"30M\",\n",
    "        \"datatype\": {\n",
    "            \"base\": \"string\",\n",
    "            \"format\": \"Logged\"\n",
    "        }\n",
    "    },\n",
    "    'host_connected':{\n",
    "        \"dc:description\": \"Half hourly sensor internal diagnostic test for the connection of a 'host' - i.e. connection of a PC or similar.\",\n",
    "        \"schema:duration\": \"30M\",\n",
    "        \"datatype\": {\n",
    "            \"base\": \"string\",\n",
    "            \"format\": \"Logged\"\n",
    "        }\n",
    "    },\n",
    "    'stopped':{\n",
    "        \"dc:description\": \"Half hourly sensor internal diagnostic test for the command to stop recording.\",\n",
    "        \"schema:duration\": \"30M\",\n",
    "        \"datatype\": {\n",
    "            \"base\": \"string\",\n",
    "            \"format\": \"Logged\"\n",
    "        }\n",
    "    },\n",
    "    'end_of_file':{\n",
    "        \"dc:description\": \"Half hourly value indicating the end of the downloaded data file.\",\n",
    "        \"schema:duration\": \"30M\",\n",
    "        \"datatype\": {\n",
    "            \"base\": \"string\",\n",
    "            \"format\": \"Logged\"\n",
    "        }\n",
    "    }\n",
    "}\n",
    "for col_dict in metadata_table_dict['tableSchema']['columns']:\n",
    "    for k,v in data[col_dict['name']].items():\n",
    "        col_dict[k]=v\n",
    "metadata_table_dict"
   ]
  },
  {
   "cell_type": "markdown",
   "id": "13bf8cba",
   "metadata": {},
   "source": [
    "## Save the newly created metadata table object"
   ]
  },
  {
   "cell_type": "code",
   "execution_count": 7,
   "id": "eb3b150e",
   "metadata": {},
   "outputs": [],
   "source": [
    "with open('ABCE_atrium_U12_UTF8.csv-metadata.json','w') as f:\n",
    "    json.dump(metadata_table_dict,f,indent=4)"
   ]
  },
  {
   "cell_type": "markdown",
   "id": "6f44ab76",
   "metadata": {},
   "source": [
    "## Testing\n",
    "\n",
    "To test the newly created metadata file, we can use the `csvw_functions` package to create an annotated table group object and chaeck for errors. We can also convert the data to JSON-LD to check that this process works fine.\n"
   ]
  },
  {
   "cell_type": "code",
   "execution_count": 8,
   "id": "f965742a",
   "metadata": {},
   "outputs": [],
   "source": [
    "annotated_table_group_dict=csvw_functions.create_annotated_table_group(\n",
    "    'ABCE_atrium_U12_UTF8.csv-metadata.json'\n",
    ")"
   ]
  },
  {
   "cell_type": "markdown",
   "id": "e0f97ea3",
   "metadata": {},
   "source": [
    "*(No runtime errors)*"
   ]
  },
  {
   "cell_type": "code",
   "execution_count": 9,
   "id": "48c3538e",
   "metadata": {},
   "outputs": [
    {
     "data": {
      "text/plain": [
       "[]"
      ]
     },
     "execution_count": 9,
     "metadata": {},
     "output_type": "execute_result"
    }
   ],
   "source": [
    "csvw_functions.get_errors(annotated_table_group_dict)"
   ]
  },
  {
   "cell_type": "markdown",
   "id": "6f1c5415",
   "metadata": {},
   "source": [
    "*(No errors stored in the annotated table group object)*"
   ]
  },
  {
   "cell_type": "code",
   "execution_count": 10,
   "id": "daba09e7",
   "metadata": {},
   "outputs": [
    {
     "data": {
      "text/plain": [
       "[{'index': 1,\n",
       "  'time': '10/02/13 06:00:00 AM',\n",
       "  'temp': 19.865,\n",
       "  'rh': 59.728,\n",
       "  'intensity': 11.8},\n",
       " {'index': 2,\n",
       "  'time': '10/02/13 06:30:00 AM',\n",
       "  'temp': 19.817,\n",
       "  'rh': 59.781,\n",
       "  'intensity': 11.8}]"
      ]
     },
     "execution_count": 10,
     "metadata": {},
     "output_type": "execute_result"
    }
   ],
   "source": [
    "json_ld=csvw_functions.create_json_ld(\n",
    "    annotated_table_group_dict,\n",
    "    mode='minimal'\n",
    ")\n",
    "json_ld[0:2]"
   ]
  },
  {
   "cell_type": "markdown",
   "id": "f7c74bb7",
   "metadata": {},
   "source": [
    "*(No runtime errors. Conversion looks fine.)*"
   ]
  },
  {
   "cell_type": "code",
   "execution_count": null,
   "id": "30a4ef0a",
   "metadata": {},
   "outputs": [],
   "source": []
  }
 ],
 "metadata": {
  "kernelspec": {
   "display_name": "Python 3 (ipykernel)",
   "language": "python",
   "name": "python3"
  },
  "language_info": {
   "codemirror_mode": {
    "name": "ipython",
    "version": 3
   },
   "file_extension": ".py",
   "mimetype": "text/x-python",
   "name": "python",
   "nbconvert_exporter": "python",
   "pygments_lexer": "ipython3",
   "version": "3.9.7"
  }
 },
 "nbformat": 4,
 "nbformat_minor": 5
}
