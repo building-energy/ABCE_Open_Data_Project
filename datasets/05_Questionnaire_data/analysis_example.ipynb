{
 "cells": [
  {
   "cell_type": "markdown",
   "id": "b461e6aa",
   "metadata": {},
   "source": [
    "# analysis example"
   ]
  },
  {
   "cell_type": "markdown",
   "id": "d346ed4f",
   "metadata": {},
   "source": [
    "## Setup"
   ]
  },
  {
   "cell_type": "code",
   "execution_count": 1,
   "id": "87d73bbe",
   "metadata": {},
   "outputs": [],
   "source": [
    "import pandas as pd\n",
    "import json\n",
    "import matplotlib.pyplot as plt"
   ]
  },
  {
   "cell_type": "markdown",
   "id": "35944c5e",
   "metadata": {},
   "source": [
    "## Get csv data"
   ]
  },
  {
   "cell_type": "code",
   "execution_count": 2,
   "id": "22860079",
   "metadata": {},
   "outputs": [
    {
     "data": {
      "text/html": [
       "<div>\n",
       "<style scoped>\n",
       "    .dataframe tbody tr th:only-of-type {\n",
       "        vertical-align: middle;\n",
       "    }\n",
       "\n",
       "    .dataframe tbody tr th {\n",
       "        vertical-align: top;\n",
       "    }\n",
       "\n",
       "    .dataframe thead th {\n",
       "        text-align: right;\n",
       "    }\n",
       "</style>\n",
       "<table border=\"1\" class=\"dataframe\">\n",
       "  <thead>\n",
       "    <tr style=\"text-align: right;\">\n",
       "      <th></th>\n",
       "      <th>person_id</th>\n",
       "      <th>first name</th>\n",
       "      <th>last name</th>\n",
       "      <th>age</th>\n",
       "      <th>gender</th>\n",
       "      <th>occupation</th>\n",
       "    </tr>\n",
       "  </thead>\n",
       "  <tbody>\n",
       "    <tr>\n",
       "      <th>0</th>\n",
       "      <td>1</td>\n",
       "      <td>Andrew</td>\n",
       "      <td>Smith</td>\n",
       "      <td>32</td>\n",
       "      <td>M</td>\n",
       "      <td>Administrator</td>\n",
       "    </tr>\n",
       "    <tr>\n",
       "      <th>1</th>\n",
       "      <td>2</td>\n",
       "      <td>Beth</td>\n",
       "      <td>Jones</td>\n",
       "      <td>45</td>\n",
       "      <td>F</td>\n",
       "      <td>Reader</td>\n",
       "    </tr>\n",
       "    <tr>\n",
       "      <th>2</th>\n",
       "      <td>3</td>\n",
       "      <td>Chris</td>\n",
       "      <td>Doe</td>\n",
       "      <td>21</td>\n",
       "      <td>M</td>\n",
       "      <td>PhD Researcher</td>\n",
       "    </tr>\n",
       "    <tr>\n",
       "      <th>3</th>\n",
       "      <td>4</td>\n",
       "      <td>Diane</td>\n",
       "      <td>Walker</td>\n",
       "      <td>76</td>\n",
       "      <td>F</td>\n",
       "      <td>Retired</td>\n",
       "    </tr>\n",
       "    <tr>\n",
       "      <th>4</th>\n",
       "      <td>5</td>\n",
       "      <td>Edward</td>\n",
       "      <td>Wilkinson</td>\n",
       "      <td>65</td>\n",
       "      <td>M</td>\n",
       "      <td>Professor</td>\n",
       "    </tr>\n",
       "  </tbody>\n",
       "</table>\n",
       "</div>"
      ],
      "text/plain": [
       "   person_id first name  last name  age gender      occupation\n",
       "0          1     Andrew      Smith   32      M   Administrator\n",
       "1          2       Beth      Jones   45      F          Reader\n",
       "2          3      Chris        Doe   21      M  PhD Researcher\n",
       "3          4      Diane     Walker   76      F         Retired\n",
       "4          5     Edward  Wilkinson   65      M       Professor"
      ]
     },
     "execution_count": 2,
     "metadata": {},
     "output_type": "execute_result"
    }
   ],
   "source": [
    "df=pd.read_csv(\n",
    "    'questionnaire_data.csv'\n",
    ")\n",
    "df"
   ]
  },
  {
   "cell_type": "markdown",
   "id": "48feaa3a",
   "metadata": {},
   "source": [
    "## Get metadata"
   ]
  },
  {
   "cell_type": "code",
   "execution_count": 3,
   "id": "5134c0d9",
   "metadata": {
    "scrolled": true
   },
   "outputs": [
    {
     "data": {
      "text/plain": [
       "{'@context': 'http://www.w3.org/ns/csvw',\n",
       " 'tableSchema': {'columns': [{'titles': {'und': ['person_id']},\n",
       "    'name': 'person_id',\n",
       "    'rdfs:label': 'person_id',\n",
       "    'dc:description': 'A unique integer identifier for the respondent.',\n",
       "    'datatype': 'integer'},\n",
       "   {'titles': {'und': ['first name']},\n",
       "    'name': 'first_name',\n",
       "    'rdfs:label': 'first_name',\n",
       "    'propertyUrl': 'foaf:firstName',\n",
       "    'datatype': 'string',\n",
       "    'rdfs:comment': 'See http://xmlns.com/foaf/0.1/#term_firstName for definition'},\n",
       "   {'titles': {'und': ['last name']},\n",
       "    'name': 'last_name',\n",
       "    'rdfs:label': 'last_name',\n",
       "    'propertyUrl': 'foaf:family_Name',\n",
       "    'datatype': 'string',\n",
       "    'rdfs:comment': 'See http://xmlns.com/foaf/0.1/#term_family_name for definition'},\n",
       "   {'titles': {'und': ['age']},\n",
       "    'name': 'age',\n",
       "    'rdfs:label': 'age',\n",
       "    'propertyUrl': 'https://dbpedia.org/ontology/age',\n",
       "    'datatype': 'integer',\n",
       "    'http://purl.org/linked-data/sdmx/2009/attribute#unitMeasure': {'@id': 'http://qudt.org/vocab/unit/YR'},\n",
       "    'https://schema.org/unitText': 'Years'},\n",
       "   {'titles': {'und': ['gender']},\n",
       "    'name': 'gender',\n",
       "    'rdfs:label': 'gender',\n",
       "    'propertyUrl': 'foaf:gender',\n",
       "    'datatype': 'string',\n",
       "    'rdfs:comment': 'See http://xmlns.com/foaf/0.1/#term_gender for definition'},\n",
       "   {'titles': {'und': ['occupation']},\n",
       "    'name': 'occupation',\n",
       "    'rdfs:label': 'occupation',\n",
       "    'propertyUrl': 'https://schema.org/jobTitle.',\n",
       "    'datatype': 'string'}]},\n",
       " 'url': 'questionnaire_data.csv',\n",
       " 'dc:title': 'Questionnaire on University staff',\n",
       " 'dc:description': 'Fictional questionnaire responses for a survey carried out on University staff in June 2022',\n",
       " 'dc:location': 'Loughborough University, LE11 3TU, UK',\n",
       " 'dc:creator': 'ABCE Open Research Team'}"
      ]
     },
     "execution_count": 3,
     "metadata": {},
     "output_type": "execute_result"
    }
   ],
   "source": [
    "with open('questionnaire_data.csv-metadata.json') as f:\n",
    "    metadata_table_dict=json.load(f)\n",
    "metadata_table_dict"
   ]
  },
  {
   "cell_type": "markdown",
   "id": "16b333a8",
   "metadata": {},
   "source": [
    "## Create plot\n",
    "\n",
    "This uses both the CSV data file and the JSON metadata file."
   ]
  },
  {
   "cell_type": "code",
   "execution_count": 4,
   "id": "4a973b7f",
   "metadata": {},
   "outputs": [],
   "source": [
    "def get_axis_label(name):\n",
    "    \"\"\n",
    "    for col in metadata_table_dict['tableSchema']['columns']:\n",
    "        \n",
    "        if col['name']==name:\n",
    "            \n",
    "            label=col.get('rdfs:label')\n",
    "            unit=col.get('https://schema.org/unitText')\n",
    "            \n",
    "            return label + (f' ({unit})' if unit else '')\n",
    "        "
   ]
  },
  {
   "cell_type": "code",
   "execution_count": 5,
   "id": "b557d794",
   "metadata": {},
   "outputs": [
    {
     "data": {
      "text/plain": [
       "Text(0, 0.5, 'age (Years)')"
      ]
     },
     "execution_count": 5,
     "metadata": {},
     "output_type": "execute_result"
    },
    {
     "data": {
      "image/png": "[encoded data removed]",
      "text/plain": [
       "<Figure size 576x576 with 1 Axes>"
      ]
     },
     "metadata": {
      "needs_background": "light"
     },
     "output_type": "display_data"
    }
   ],
   "source": [
    "fig, ax = plt.subplots(figsize=(8,8))\n",
    "ax.bar(df.person_id, df.age)\n",
    "ax.set_xlabel(get_axis_label('person_id'))\n",
    "ax.set_ylabel(get_axis_label('age'))"
   ]
  },
  {
   "cell_type": "code",
   "execution_count": null,
   "id": "606e89a5",
   "metadata": {},
   "outputs": [],
   "source": []
  }
 ],
 "metadata": {
  "kernelspec": {
   "display_name": "Python 3 (ipykernel)",
   "language": "python",
   "name": "python3"
  },
  "language_info": {
   "codemirror_mode": {
    "name": "ipython",
    "version": 3
   },
   "file_extension": ".py",
   "mimetype": "text/x-python",
   "name": "python",
   "nbconvert_exporter": "python",
   "pygments_lexer": "ipython3",
   "version": "3.9.7"
  }
 },
 "nbformat": 4,
 "nbformat_minor": 5
}
