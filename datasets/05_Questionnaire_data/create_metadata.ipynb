{
 "cells": [
  {
   "cell_type": "markdown",
   "id": "23d75f62",
   "metadata": {},
   "source": [
    "# create_metadata"
   ]
  },
  {
   "cell_type": "markdown",
   "id": "2d1554c3",
   "metadata": {},
   "source": [
    "This notebook creates the CSVW metadata file for the questionnaire CSV file."
   ]
  },
  {
   "cell_type": "markdown",
   "id": "b03c80bc",
   "metadata": {},
   "source": [
    "## Setup\n",
    "\n",
    "Imports packages.\n",
    "\n",
    "Information on the `csvw_functions` package is available here: https://github.com/stevenkfirth/csvw_functions"
   ]
  },
  {
   "cell_type": "code",
   "execution_count": 1,
   "id": "2910160f",
   "metadata": {},
   "outputs": [],
   "source": [
    "import csvw_functions\n",
    "import json"
   ]
  },
  {
   "cell_type": "markdown",
   "id": "7f9eb9ed",
   "metadata": {},
   "source": [
    "## Get embedded metadata"
   ]
  },
  {
   "cell_type": "markdown",
   "id": "0343b4b6",
   "metadata": {},
   "source": [
    "Reads the CSV file and extracts the information from the column headings to form an initial CSVW metadata document."
   ]
  },
  {
   "cell_type": "code",
   "execution_count": 2,
   "id": "30aae7f9",
   "metadata": {},
   "outputs": [
    {
     "data": {
      "text/plain": [
       "{'@context': 'http://www.w3.org/ns/csvw',\n",
       " 'tableSchema': {'columns': [{'titles': {'und': ['person_id']},\n",
       "    'name': 'person_id'},\n",
       "   {'titles': {'und': ['first name']}, 'name': 'first%20name'},\n",
       "   {'titles': {'und': ['last name']}, 'name': 'last%20name'},\n",
       "   {'titles': {'und': ['age']}, 'name': 'age'},\n",
       "   {'titles': {'und': ['gender']}, 'name': 'gender'},\n",
       "   {'titles': {'und': ['occupation']}, 'name': 'occupation'}]},\n",
       " 'url': 'questionnaire_data.csv'}"
      ]
     },
     "execution_count": 2,
     "metadata": {},
     "output_type": "execute_result"
    }
   ],
   "source": [
    "metadata_table_dict=\\\n",
    "    csvw_functions.get_embedded_metadata(\n",
    "        'questionnaire_data.csv',\n",
    "        relative_path=True  # sets the 'url' table property to a path relative to the current working directory.\n",
    ")\n",
    "metadata_table_dict"
   ]
  },
  {
   "cell_type": "markdown",
   "id": "c6637464",
   "metadata": {},
   "source": [
    "## Add new information to the metadata document\n",
    "\n",
    "This section adds additional information to create a complete metadata document."
   ]
  },
  {
   "cell_type": "markdown",
   "id": "71af1548",
   "metadata": {},
   "source": [
    "### set properties on Table object\n",
    "\n",
    "New information about the table."
   ]
  },
  {
   "cell_type": "code",
   "execution_count": 3,
   "id": "295374b2",
   "metadata": {},
   "outputs": [
    {
     "data": {
      "text/plain": [
       "{'@context': 'http://www.w3.org/ns/csvw',\n",
       " 'tableSchema': {'columns': [{'titles': {'und': ['person_id']},\n",
       "    'name': 'person_id'},\n",
       "   {'titles': {'und': ['first name']}, 'name': 'first%20name'},\n",
       "   {'titles': {'und': ['last name']}, 'name': 'last%20name'},\n",
       "   {'titles': {'und': ['age']}, 'name': 'age'},\n",
       "   {'titles': {'und': ['gender']}, 'name': 'gender'},\n",
       "   {'titles': {'und': ['occupation']}, 'name': 'occupation'}]},\n",
       " 'url': 'questionnaire_data.csv',\n",
       " 'dc:title': 'Questionnaire on University staff',\n",
       " 'dc:description': 'Fictional questionnaire responses for a survey carried out on University staff in June 2022',\n",
       " 'dc:location': 'Loughborough University, LE11 3TU, UK',\n",
       " 'dc:creator': 'ABCE Open Research Team'}"
      ]
     },
     "execution_count": 3,
     "metadata": {},
     "output_type": "execute_result"
    }
   ],
   "source": [
    "metadata_table_dict.update(\n",
    "    {\n",
    "        \"dc:title\": \"Questionnaire on University staff\",\n",
    "        \"dc:description\": \n",
    "            \"Fictional questionnaire responses for a survey carried out on University staff in June 2022\",\n",
    "        \"dc:location\": \"Loughborough University, LE11 3TU, UK\",\n",
    "        \"dc:creator\": \"ABCE Open Research Team\"\n",
    "    }\n",
    ")\n",
    "metadata_table_dict"
   ]
  },
  {
   "cell_type": "markdown",
   "id": "cb4c2cd1",
   "metadata": {},
   "source": [
    "### update column names\n",
    "\n",
    "Updates the column names to better formatted strings."
   ]
  },
  {
   "cell_type": "code",
   "execution_count": 4,
   "id": "303ebdfe",
   "metadata": {},
   "outputs": [
    {
     "data": {
      "text/plain": [
       "{'@context': 'http://www.w3.org/ns/csvw',\n",
       " 'tableSchema': {'columns': [{'titles': {'und': ['person_id']},\n",
       "    'name': 'person_id'},\n",
       "   {'titles': {'und': ['first name']}, 'name': 'first_name'},\n",
       "   {'titles': {'und': ['last name']}, 'name': 'last_name'},\n",
       "   {'titles': {'und': ['age']}, 'name': 'age'},\n",
       "   {'titles': {'und': ['gender']}, 'name': 'gender'},\n",
       "   {'titles': {'und': ['occupation']}, 'name': 'occupation'}]},\n",
       " 'url': 'questionnaire_data.csv',\n",
       " 'dc:title': 'Questionnaire on University staff',\n",
       " 'dc:description': 'Fictional questionnaire responses for a survey carried out on University staff in June 2022',\n",
       " 'dc:location': 'Loughborough University, LE11 3TU, UK',\n",
       " 'dc:creator': 'ABCE Open Research Team'}"
      ]
     },
     "execution_count": 4,
     "metadata": {},
     "output_type": "execute_result"
    }
   ],
   "source": [
    "for col_dict in metadata_table_dict['tableSchema']['columns']:\n",
    "    col_dict['name']=col_dict['titles']['und'][0].split(',')[0].split('(')[0].lower().replace(' ','_')\n",
    "metadata_table_dict"
   ]
  },
  {
   "cell_type": "markdown",
   "id": "5b74e3ac",
   "metadata": {},
   "source": [
    "### add column descriptions, datatypes and units\n",
    "\n",
    "Adds additional information to each column."
   ]
  },
  {
   "cell_type": "code",
   "execution_count": 5,
   "id": "9020a172",
   "metadata": {},
   "outputs": [
    {
     "data": {
      "text/plain": [
       "{'@context': 'http://www.w3.org/ns/csvw',\n",
       " 'tableSchema': {'columns': [{'titles': {'und': ['person_id']},\n",
       "    'name': 'person_id',\n",
       "    'rdfs:label': 'person_id',\n",
       "    'dc:description': 'A unique integer identifier for the respondent.',\n",
       "    'datatype': 'integer'},\n",
       "   {'titles': {'und': ['first name']},\n",
       "    'name': 'first_name',\n",
       "    'rdfs:label': 'first_name',\n",
       "    'propertyUrl': 'foaf:firstName',\n",
       "    'datatype': 'string',\n",
       "    'rdfs:comment': 'See http://xmlns.com/foaf/0.1/#term_firstName for definition'},\n",
       "   {'titles': {'und': ['last name']},\n",
       "    'name': 'last_name',\n",
       "    'rdfs:label': 'last_name',\n",
       "    'propertyUrl': 'foaf:family_Name',\n",
       "    'datatype': 'string',\n",
       "    'rdfs:comment': 'See http://xmlns.com/foaf/0.1/#term_family_name for definition'},\n",
       "   {'titles': {'und': ['age']},\n",
       "    'name': 'age',\n",
       "    'rdfs:label': 'age',\n",
       "    'propertyUrl': 'https://dbpedia.org/ontology/age',\n",
       "    'datatype': 'integer',\n",
       "    'http://purl.org/linked-data/sdmx/2009/attribute#unitMeasure': {'@id': 'http://qudt.org/vocab/unit/YR'},\n",
       "    'https://schema.org/unitText': 'Years'},\n",
       "   {'titles': {'und': ['gender']},\n",
       "    'name': 'gender',\n",
       "    'rdfs:label': 'gender',\n",
       "    'propertyUrl': 'foaf:gender',\n",
       "    'datatype': 'string',\n",
       "    'rdfs:comment': 'See http://xmlns.com/foaf/0.1/#term_gender for definition'},\n",
       "   {'titles': {'und': ['occupation']},\n",
       "    'name': 'occupation',\n",
       "    'rdfs:label': 'occupation',\n",
       "    'propertyUrl': 'https://schema.org/jobTitle.',\n",
       "    'datatype': 'string'}]},\n",
       " 'url': 'questionnaire_data.csv',\n",
       " 'dc:title': 'Questionnaire on University staff',\n",
       " 'dc:description': 'Fictional questionnaire responses for a survey carried out on University staff in June 2022',\n",
       " 'dc:location': 'Loughborough University, LE11 3TU, UK',\n",
       " 'dc:creator': 'ABCE Open Research Team'}"
      ]
     },
     "execution_count": 5,
     "metadata": {},
     "output_type": "execute_result"
    }
   ],
   "source": [
    "data={\n",
    "    'person_id':{\n",
    "        'rdfs:label': 'person_id',\n",
    "        'dc:description': 'A unique integer identifier for the respondent.',\n",
    "        'datatype':'integer'\n",
    "    },\n",
    "    'first_name':{\n",
    "        'rdfs:label': 'first_name',\n",
    "        'propertyUrl': 'foaf:firstName',\n",
    "        'datatype':'string',\n",
    "        'rdfs:comment': 'See http://xmlns.com/foaf/0.1/#term_firstName for definition'\n",
    "        \n",
    "    },\n",
    "    'last_name':{\n",
    "        'rdfs:label': 'last_name',\n",
    "        'propertyUrl': 'foaf:family_Name',\n",
    "        \"datatype\": \"string\",\n",
    "        'rdfs:comment': 'See http://xmlns.com/foaf/0.1/#term_family_name for definition'\n",
    "    },\n",
    "    'age':{\n",
    "        'rdfs:label': 'age',\n",
    "        \"propertyUrl\": \"https://dbpedia.org/ontology/age\",\n",
    "        \"datatype\": \"integer\",\n",
    "        \"http://purl.org/linked-data/sdmx/2009/attribute#unitMeasure\": {\n",
    "            \"@id\": \"http://qudt.org/vocab/unit/YR\"\n",
    "        },\n",
    "        'https://schema.org/unitText': 'Years'\n",
    "    },\n",
    "    'gender':{\n",
    "        'rdfs:label': 'gender',\n",
    "        \"propertyUrl\": \"foaf:gender\",\n",
    "        \"datatype\": \"string\",\n",
    "        'rdfs:comment': 'See http://xmlns.com/foaf/0.1/#term_gender for definition'\n",
    "    },\n",
    "    'occupation':{\n",
    "        'rdfs:label': 'occupation',\n",
    "        \"propertyUrl\": \"https://schema.org/jobTitle.\",\n",
    "        \"datatype\": 'string'\n",
    "    }\n",
    "}\n",
    "for col_dict in metadata_table_dict['tableSchema']['columns']:\n",
    "    for k,v in data[col_dict['name']].items():\n",
    "        col_dict[k]=v\n",
    "metadata_table_dict"
   ]
  },
  {
   "cell_type": "markdown",
   "id": "13bf8cba",
   "metadata": {},
   "source": [
    "## Save the newly created metadata table object"
   ]
  },
  {
   "cell_type": "code",
   "execution_count": 6,
   "id": "eb3b150e",
   "metadata": {},
   "outputs": [],
   "source": [
    "with open('questionnaire_data.csv-metadata.json','w') as f:\n",
    "    json.dump(metadata_table_dict,f,indent=4)"
   ]
  },
  {
   "cell_type": "markdown",
   "id": "6f44ab76",
   "metadata": {},
   "source": [
    "## Testing\n",
    "\n",
    "To test the newly created metadata file, we can use the `csvw_functions` package to create an annotated table group object and chaeck for errors. We can also convert the data to JSON-LD to check that this process works fine.\n"
   ]
  },
  {
   "cell_type": "code",
   "execution_count": 7,
   "id": "f965742a",
   "metadata": {},
   "outputs": [],
   "source": [
    "annotated_table_group_dict=csvw_functions.create_annotated_table_group(\n",
    "    'questionnaire_data.csv-metadata.json'\n",
    ")"
   ]
  },
  {
   "cell_type": "markdown",
   "id": "e0f97ea3",
   "metadata": {},
   "source": [
    "*(No runtime errors)*"
   ]
  },
  {
   "cell_type": "code",
   "execution_count": 8,
   "id": "48c3538e",
   "metadata": {},
   "outputs": [
    {
     "data": {
      "text/plain": [
       "[]"
      ]
     },
     "execution_count": 8,
     "metadata": {},
     "output_type": "execute_result"
    }
   ],
   "source": [
    "csvw_functions.get_errors(annotated_table_group_dict)"
   ]
  },
  {
   "cell_type": "markdown",
   "id": "6f1c5415",
   "metadata": {},
   "source": [
    "*(No errors stored in the annotated table group object)*"
   ]
  },
  {
   "cell_type": "code",
   "execution_count": 9,
   "id": "daba09e7",
   "metadata": {},
   "outputs": [
    {
     "data": {
      "text/plain": [
       "[{'person_id': 1,\n",
       "  'foaf:firstName': 'Andrew',\n",
       "  'foaf:family_Name': 'Smith',\n",
       "  'https://dbpedia.org/ontology/age': 32,\n",
       "  'foaf:gender': 'M',\n",
       "  'https://schema.org/jobTitle.': 'Administrator'},\n",
       " {'person_id': 2,\n",
       "  'foaf:firstName': 'Beth',\n",
       "  'foaf:family_Name': 'Jones',\n",
       "  'https://dbpedia.org/ontology/age': 45,\n",
       "  'foaf:gender': 'F',\n",
       "  'https://schema.org/jobTitle.': 'Reader'}]"
      ]
     },
     "execution_count": 9,
     "metadata": {},
     "output_type": "execute_result"
    }
   ],
   "source": [
    "json_ld=csvw_functions.create_json_ld(\n",
    "    annotated_table_group_dict,\n",
    "    mode='minimal'\n",
    ")\n",
    "json_ld[0:2]"
   ]
  },
  {
   "cell_type": "markdown",
   "id": "f7c74bb7",
   "metadata": {},
   "source": [
    "*(No runtime errors. Conversion looks fine.)*"
   ]
  },
  {
   "cell_type": "code",
   "execution_count": null,
   "id": "30a4ef0a",
   "metadata": {},
   "outputs": [],
   "source": []
  }
 ],
 "metadata": {
  "kernelspec": {
   "display_name": "Python 3 (ipykernel)",
   "language": "python",
   "name": "python3"
  },
  "language_info": {
   "codemirror_mode": {
    "name": "ipython",
    "version": 3
   },
   "file_extension": ".py",
   "mimetype": "text/x-python",
   "name": "python",
   "nbconvert_exporter": "python",
   "pygments_lexer": "ipython3",
   "version": "3.9.7"
  }
 },
 "nbformat": 4,
 "nbformat_minor": 5
}
